{
 "cells": [
  {
   "cell_type": "code",
   "execution_count": 1,
   "metadata": {
    "ExecuteTime": {
     "end_time": "2020-05-13T11:04:27.656255Z",
     "start_time": "2020-05-13T11:04:24.370045Z"
    }
   },
   "outputs": [],
   "source": [
    "import numpy as np\n",
    "import pandas as pd\n",
    "import glob # to import all files at once\n",
    "import seaborn as sns #visualisation\n",
    "import matplotlib.pyplot as plt #visualisation\n",
    "import matplotlib.gridspec as gridspec\n",
    "from datetime import datetime\n",
    "%matplotlib inline \n",
    "sns.set(color_codes=True)"
   ]
  },
  {
   "cell_type": "code",
   "execution_count": 2,
   "metadata": {
    "ExecuteTime": {
     "end_time": "2020-05-13T11:04:28.311508Z",
     "start_time": "2020-05-13T11:04:27.659248Z"
    }
   },
   "outputs": [],
   "source": [
    "# import bokeh library \n",
    "\n",
    "from bokeh.io import show, output_file, curdoc\n",
    "from bokeh.plotting import figure\n",
    "from bokeh.palettes import Plasma\n",
    "from bokeh.sampledata.autompg import autompg_clean as df\n",
    "from bokeh.transform import factor_cmap\n",
    "from bokeh.models import ColumnDataSource, FactorRange, HoverTool, RadioButtonGroup, PreText \n",
    "from bokeh.models.widgets import Select, Panel, Tabs\n",
    "from bokeh.layouts import column, row"
   ]
  },
  {
   "cell_type": "markdown",
   "metadata": {},
   "source": [
    "# Load Private property data"
   ]
  },
  {
   "cell_type": "code",
   "execution_count": 3,
   "metadata": {
    "ExecuteTime": {
     "end_time": "2020-05-13T11:04:47.922596Z",
     "start_time": "2020-05-13T11:04:28.315493Z"
    }
   },
   "outputs": [
    {
     "data": {
      "text/html": [
       "<div>\n",
       "<style scoped>\n",
       "    .dataframe tbody tr th:only-of-type {\n",
       "        vertical-align: middle;\n",
       "    }\n",
       "\n",
       "    .dataframe tbody tr th {\n",
       "        vertical-align: top;\n",
       "    }\n",
       "\n",
       "    .dataframe thead th {\n",
       "        text-align: right;\n",
       "    }\n",
       "</style>\n",
       "<table border=\"1\" class=\"dataframe\">\n",
       "  <thead>\n",
       "    <tr style=\"text-align: right;\">\n",
       "      <th></th>\n",
       "      <th>property_addedtime</th>\n",
       "      <th>property_address</th>\n",
       "      <th>property_balcony</th>\n",
       "      <th>property_bedroom</th>\n",
       "      <th>property_description</th>\n",
       "      <th>property_garden</th>\n",
       "      <th>property_parking</th>\n",
       "      <th>property_penthouse</th>\n",
       "      <th>property_postcode</th>\n",
       "      <th>property_price</th>\n",
       "      <th>property_tenure</th>\n",
       "      <th>property_tube</th>\n",
       "      <th>property_tubedist</th>\n",
       "      <th>scrapping_week</th>\n",
       "    </tr>\n",
       "  </thead>\n",
       "  <tbody>\n",
       "    <tr>\n",
       "      <th>6164</th>\n",
       "      <td>01 April 2019</td>\n",
       "      <td>Bruce House, Harrow, London, HA1 2FW</td>\n",
       "      <td>False</td>\n",
       "      <td>1</td>\n",
       "      <td>1 bedroom apartment for sale</td>\n",
       "      <td>False</td>\n",
       "      <td>False</td>\n",
       "      <td>False</td>\n",
       "      <td>HA1 2FW</td>\n",
       "      <td>75500</td>\n",
       "      <td>Leasehold</td>\n",
       "      <td>Harrow-on-the-Hill</td>\n",
       "      <td>(0.5 mi)</td>\n",
       "      <td>1</td>\n",
       "    </tr>\n",
       "    <tr>\n",
       "      <th>11785</th>\n",
       "      <td>01 April 2019</td>\n",
       "      <td>Coniston Gardens, London</td>\n",
       "      <td>False</td>\n",
       "      <td>2</td>\n",
       "      <td>2 bedroom detached house for sale</td>\n",
       "      <td>False</td>\n",
       "      <td>True</td>\n",
       "      <td>False</td>\n",
       "      <td>N9 8NB</td>\n",
       "      <td>314950</td>\n",
       "      <td>Freehold</td>\n",
       "      <td>Edmonton Green</td>\n",
       "      <td>(0.7 mi)</td>\n",
       "      <td>1</td>\n",
       "    </tr>\n",
       "    <tr>\n",
       "      <th>11873</th>\n",
       "      <td>01 April 2019</td>\n",
       "      <td>Old Park View, Enfield</td>\n",
       "      <td>False</td>\n",
       "      <td>4</td>\n",
       "      <td>4 bedroom detached house for sale</td>\n",
       "      <td>True</td>\n",
       "      <td>True</td>\n",
       "      <td>False</td>\n",
       "      <td>EN2 7EH</td>\n",
       "      <td>1150000</td>\n",
       "      <td>NaN</td>\n",
       "      <td>Enfield Chase</td>\n",
       "      <td>(0.3 mi)</td>\n",
       "      <td>1</td>\n",
       "    </tr>\n",
       "    <tr>\n",
       "      <th>20840</th>\n",
       "      <td>01 April 2019</td>\n",
       "      <td>Ellesmere Close, Wanstead</td>\n",
       "      <td>False</td>\n",
       "      <td>7</td>\n",
       "      <td>7 bedroom semi-detached house for sale</td>\n",
       "      <td>True</td>\n",
       "      <td>True</td>\n",
       "      <td>False</td>\n",
       "      <td>E11 1PT</td>\n",
       "      <td>1250000</td>\n",
       "      <td>Freehold</td>\n",
       "      <td>Snaresbrook</td>\n",
       "      <td>(0.2 mi)</td>\n",
       "      <td>1</td>\n",
       "    </tr>\n",
       "    <tr>\n",
       "      <th>27899</th>\n",
       "      <td>01 April 2019</td>\n",
       "      <td>Mitcham Lane, Streatham</td>\n",
       "      <td>False</td>\n",
       "      <td>2</td>\n",
       "      <td>2 bedroom flat for sale</td>\n",
       "      <td>True</td>\n",
       "      <td>False</td>\n",
       "      <td>False</td>\n",
       "      <td>SW16 6LW</td>\n",
       "      <td>375000</td>\n",
       "      <td>Leasehold</td>\n",
       "      <td>Streatham</td>\n",
       "      <td>(0.2 mi)</td>\n",
       "      <td>1</td>\n",
       "    </tr>\n",
       "  </tbody>\n",
       "</table>\n",
       "</div>"
      ],
      "text/plain": [
       "      property_addedtime                      property_address  \\\n",
       "6164       01 April 2019  Bruce House, Harrow, London, HA1 2FW   \n",
       "11785      01 April 2019              Coniston Gardens, London   \n",
       "11873      01 April 2019                Old Park View, Enfield   \n",
       "20840      01 April 2019             Ellesmere Close, Wanstead   \n",
       "27899      01 April 2019               Mitcham Lane, Streatham   \n",
       "\n",
       "      property_balcony property_bedroom  \\\n",
       "6164             False                1   \n",
       "11785            False                2   \n",
       "11873            False                4   \n",
       "20840            False                7   \n",
       "27899            False                2   \n",
       "\n",
       "                         property_description property_garden  \\\n",
       "6164             1 bedroom apartment for sale           False   \n",
       "11785       2 bedroom detached house for sale           False   \n",
       "11873       4 bedroom detached house for sale            True   \n",
       "20840  7 bedroom semi-detached house for sale            True   \n",
       "27899                 2 bedroom flat for sale            True   \n",
       "\n",
       "      property_parking property_penthouse property_postcode property_price  \\\n",
       "6164             False              False          HA1 2FW           75500   \n",
       "11785             True              False           N9 8NB          314950   \n",
       "11873             True              False          EN2 7EH         1150000   \n",
       "20840             True              False          E11 1PT         1250000   \n",
       "27899            False              False          SW16 6LW         375000   \n",
       "\n",
       "      property_tenure       property_tube property_tubedist  scrapping_week  \n",
       "6164        Leasehold  Harrow-on-the-Hill          (0.5 mi)               1  \n",
       "11785        Freehold      Edmonton Green          (0.7 mi)               1  \n",
       "11873             NaN       Enfield Chase          (0.3 mi)               1  \n",
       "20840        Freehold         Snaresbrook          (0.2 mi)               1  \n",
       "27899       Leasehold           Streatham          (0.2 mi)               1  "
      ]
     },
     "execution_count": 3,
     "metadata": {},
     "output_type": "execute_result"
    }
   ],
   "source": [
    "path_property = r'ARP\\Rightmove_Data_20200411\\1_PrivateProperty' # use your path for 1st private property file\n",
    "path_property1 = r'ARP\\Rightmove_Data_20200417\\1_PrivateProperty' # use your path for 2nd PP file\n",
    "path_property2 = r'ARP\\Rightmove_Data_20200424\\1_PrivateProperty' # use your path for 3rd file\n",
    "\n",
    "property = glob.glob(path_property + \"/*.xlsx\")\n",
    "property1 = glob.glob(path_property1 + \"/*.xlsx\")\n",
    "property2 = glob.glob(path_property2 + \"/*.xlsx\")\n",
    "\n",
    "li = []\n",
    "\n",
    "for filename in property:\n",
    "    a = pd.read_excel(filename, index_col=None, header=0)\n",
    "    a['scrapping_week'] = 1\n",
    "    li.append(a)\n",
    "    \n",
    "for filename in property1:\n",
    "    a = pd.read_excel(filename, index_col=None, header=0)\n",
    "    a['scrapping_week'] = 2\n",
    "    li.append(a)\n",
    "\n",
    "for filename in property2:\n",
    "    a = pd.read_excel(filename, index_col=None, header=0)\n",
    "    a['scrapping_week'] = 3\n",
    "    li.append(a)\n",
    "\n",
    "df_property = pd.concat(li, axis=0, ignore_index=True)\n",
    "df_property = df_property.sort_values(['scrapping_week', 'property_addedtime']).drop_duplicates(['property_address','property_addedtime','property_description','property_price'], keep='first')\n",
    "\n",
    "df_property.head()\n"
   ]
  },
  {
   "cell_type": "code",
   "execution_count": 4,
   "metadata": {
    "ExecuteTime": {
     "end_time": "2020-05-13T11:04:47.969467Z",
     "start_time": "2020-05-13T11:04:47.924588Z"
    }
   },
   "outputs": [
    {
     "name": "stdout",
     "output_type": "stream",
     "text": [
      "<class 'pandas.core.frame.DataFrame'>\n",
      "Int64Index: 31986 entries, 6164 to 92867\n",
      "Data columns (total 14 columns):\n",
      "property_addedtime      31747 non-null object\n",
      "property_address        31986 non-null object\n",
      "property_balcony        31986 non-null object\n",
      "property_bedroom        31986 non-null object\n",
      "property_description    31986 non-null object\n",
      "property_garden         31986 non-null object\n",
      "property_parking        31986 non-null object\n",
      "property_penthouse      31986 non-null object\n",
      "property_postcode       31986 non-null object\n",
      "property_price          31986 non-null object\n",
      "property_tenure         24667 non-null object\n",
      "property_tube           31978 non-null object\n",
      "property_tubedist       31978 non-null object\n",
      "scrapping_week          31986 non-null int64\n",
      "dtypes: int64(1), object(13)\n",
      "memory usage: 3.7+ MB\n"
     ]
    }
   ],
   "source": [
    "df_property.info()"
   ]
  },
  {
   "cell_type": "markdown",
   "metadata": {},
   "source": [
    "# Load Commertial Property Data"
   ]
  },
  {
   "cell_type": "code",
   "execution_count": 5,
   "metadata": {
    "ExecuteTime": {
     "end_time": "2020-05-13T11:04:48.807627Z",
     "start_time": "2020-05-13T11:04:47.971463Z"
    }
   },
   "outputs": [
    {
     "data": {
      "text/html": [
       "<div>\n",
       "<style scoped>\n",
       "    .dataframe tbody tr th:only-of-type {\n",
       "        vertical-align: middle;\n",
       "    }\n",
       "\n",
       "    .dataframe tbody tr th {\n",
       "        vertical-align: top;\n",
       "    }\n",
       "\n",
       "    .dataframe thead th {\n",
       "        text-align: right;\n",
       "    }\n",
       "</style>\n",
       "<table border=\"1\" class=\"dataframe\">\n",
       "  <thead>\n",
       "    <tr style=\"text-align: right;\">\n",
       "      <th></th>\n",
       "      <th>Unnamed: 0</th>\n",
       "      <th>price</th>\n",
       "      <th>type</th>\n",
       "      <th>address</th>\n",
       "      <th>url</th>\n",
       "      <th>agent_url</th>\n",
       "      <th>postcode</th>\n",
       "      <th>number_bedrooms</th>\n",
       "      <th>search_date</th>\n",
       "    </tr>\n",
       "  </thead>\n",
       "  <tbody>\n",
       "    <tr>\n",
       "      <th>1517</th>\n",
       "      <td>498</td>\n",
       "      <td>900000.0</td>\n",
       "      <td>Commercial property for sale</td>\n",
       "      <td>Sandhurst Road, Catford, SE6</td>\n",
       "      <td>http://www.rightmove.co.uk/commercial-property...</td>\n",
       "      <td>NaN</td>\n",
       "      <td>SE6</td>\n",
       "      <td>NaN</td>\n",
       "      <td>2020-04-11 16:00:27.191242</td>\n",
       "    </tr>\n",
       "    <tr>\n",
       "      <th>1273</th>\n",
       "      <td>254</td>\n",
       "      <td>120000.0</td>\n",
       "      <td>Restaurant for sale</td>\n",
       "      <td>London, London - Central</td>\n",
       "      <td>http://www.rightmove.co.uk/commercial-property...</td>\n",
       "      <td>http://www.rightmove.co.uk/estate-agents/agent...</td>\n",
       "      <td>NaN</td>\n",
       "      <td>NaN</td>\n",
       "      <td>2020-04-11 16:00:27.191242</td>\n",
       "    </tr>\n",
       "    <tr>\n",
       "      <th>1272</th>\n",
       "      <td>253</td>\n",
       "      <td>NaN</td>\n",
       "      <td>Restaurant for sale</td>\n",
       "      <td>Green Lanes, London, N21</td>\n",
       "      <td>http://www.rightmove.co.uk/commercial-property...</td>\n",
       "      <td>http://www.rightmove.co.uk/estate-agents/agent...</td>\n",
       "      <td>N21</td>\n",
       "      <td>NaN</td>\n",
       "      <td>2020-04-11 16:00:27.191242</td>\n",
       "    </tr>\n",
       "    <tr>\n",
       "      <th>1271</th>\n",
       "      <td>252</td>\n",
       "      <td>125000.0</td>\n",
       "      <td>Hairdresser / barber shop for sale</td>\n",
       "      <td>London, SW6</td>\n",
       "      <td>http://www.rightmove.co.uk/commercial-property...</td>\n",
       "      <td>http://www.rightmove.co.uk/estate-agents/agent...</td>\n",
       "      <td>SW6</td>\n",
       "      <td>NaN</td>\n",
       "      <td>2020-04-11 16:00:27.191242</td>\n",
       "    </tr>\n",
       "    <tr>\n",
       "      <th>1270</th>\n",
       "      <td>251</td>\n",
       "      <td>NaN</td>\n",
       "      <td>Restaurant for sale</td>\n",
       "      <td>Cocktail Bar and Jazz Venue, Clapham, London, ...</td>\n",
       "      <td>http://www.rightmove.co.uk/commercial-property...</td>\n",
       "      <td>http://www.rightmove.co.uk/estate-agents/agent...</td>\n",
       "      <td>SW11</td>\n",
       "      <td>NaN</td>\n",
       "      <td>2020-04-11 16:00:27.191242</td>\n",
       "    </tr>\n",
       "  </tbody>\n",
       "</table>\n",
       "</div>"
      ],
      "text/plain": [
       "      Unnamed: 0     price                                type  \\\n",
       "1517         498  900000.0        Commercial property for sale   \n",
       "1273         254  120000.0                 Restaurant for sale   \n",
       "1272         253       NaN                 Restaurant for sale   \n",
       "1271         252  125000.0  Hairdresser / barber shop for sale   \n",
       "1270         251       NaN                 Restaurant for sale   \n",
       "\n",
       "                                                address  \\\n",
       "1517                       Sandhurst Road, Catford, SE6   \n",
       "1273                           London, London - Central   \n",
       "1272                           Green Lanes, London, N21   \n",
       "1271                                        London, SW6   \n",
       "1270  Cocktail Bar and Jazz Venue, Clapham, London, ...   \n",
       "\n",
       "                                                    url  \\\n",
       "1517  http://www.rightmove.co.uk/commercial-property...   \n",
       "1273  http://www.rightmove.co.uk/commercial-property...   \n",
       "1272  http://www.rightmove.co.uk/commercial-property...   \n",
       "1271  http://www.rightmove.co.uk/commercial-property...   \n",
       "1270  http://www.rightmove.co.uk/commercial-property...   \n",
       "\n",
       "                                              agent_url postcode  \\\n",
       "1517                                                NaN      SE6   \n",
       "1273  http://www.rightmove.co.uk/estate-agents/agent...      NaN   \n",
       "1272  http://www.rightmove.co.uk/estate-agents/agent...      N21   \n",
       "1271  http://www.rightmove.co.uk/estate-agents/agent...      SW6   \n",
       "1270  http://www.rightmove.co.uk/estate-agents/agent...     SW11   \n",
       "\n",
       "      number_bedrooms                 search_date  \n",
       "1517              NaN  2020-04-11 16:00:27.191242  \n",
       "1273              NaN  2020-04-11 16:00:27.191242  \n",
       "1272              NaN  2020-04-11 16:00:27.191242  \n",
       "1271              NaN  2020-04-11 16:00:27.191242  \n",
       "1270              NaN  2020-04-11 16:00:27.191242  "
      ]
     },
     "execution_count": 5,
     "metadata": {},
     "output_type": "execute_result"
    }
   ],
   "source": [
    "path_commercial = r'ARP\\Rightmove_Data_20200411\\2_CommericalProperty' # use your path for 1st private commercial file\n",
    "path_commercial1 = r'ARP\\Rightmove_Data_20200417\\2_CommercialProperty' # use your path for 2nd PP file\n",
    "path_commercial2 = r'ARP\\Rightmove_Data_20200424\\2_CommercialProperty' # use your path for 3rd file\n",
    "\n",
    "commercial = glob.glob(path_commercial + \"/*.xlsx\")\n",
    "commercial1 = glob.glob(path_commercial1 + \"/*.xlsx\")\n",
    "commercial2 = glob.glob(path_commercial2 + \"/*.xlsx\")\n",
    "\n",
    "co = []\n",
    "\n",
    "for filename in commercial:\n",
    "    a = pd.read_excel(filename, index_col=None, header=0)\n",
    "    co.append(a)\n",
    "    \n",
    "for filename in commercial1:\n",
    "    a = pd.read_excel(filename, index_col=None, header=0)\n",
    "    co.append(a)\n",
    "\n",
    "for filename in commercial2:\n",
    "    a = pd.read_excel(filename, index_col=None, header=0)\n",
    "    co.append(a)\n",
    "\n",
    "df_commercial = pd.concat(co, axis=0, ignore_index=True)\n",
    "df_commercial = df_commercial.sort_values(['search_date']).drop_duplicates(['address','type','price'], keep='first')\n",
    "\n",
    "df_commercial.head()"
   ]
  },
  {
   "cell_type": "code",
   "execution_count": 6,
   "metadata": {
    "ExecuteTime": {
     "end_time": "2020-05-13T11:04:48.824546Z",
     "start_time": "2020-05-13T11:04:48.809587Z"
    }
   },
   "outputs": [
    {
     "name": "stdout",
     "output_type": "stream",
     "text": [
      "<class 'pandas.core.frame.DataFrame'>\n",
      "Int64Index: 1226 entries, 1517 to 5318\n",
      "Data columns (total 9 columns):\n",
      "Unnamed: 0         1226 non-null int64\n",
      "price              1051 non-null float64\n",
      "type               1226 non-null object\n",
      "address            1226 non-null object\n",
      "url                1226 non-null object\n",
      "agent_url          734 non-null object\n",
      "postcode           849 non-null object\n",
      "number_bedrooms    80 non-null float64\n",
      "search_date        1226 non-null object\n",
      "dtypes: float64(2), int64(1), object(6)\n",
      "memory usage: 95.8+ KB\n"
     ]
    }
   ],
   "source": [
    "df_commercial.info()"
   ]
  },
  {
   "cell_type": "markdown",
   "metadata": {},
   "source": [
    "# Data Cleaning And Preparation"
   ]
  },
  {
   "cell_type": "code",
   "execution_count": 7,
   "metadata": {
    "ExecuteTime": {
     "end_time": "2020-05-13T11:04:48.831531Z",
     "start_time": "2020-05-13T11:04:48.826543Z"
    }
   },
   "outputs": [],
   "source": [
    "df_private=df_property"
   ]
  },
  {
   "cell_type": "code",
   "execution_count": 8,
   "metadata": {
    "ExecuteTime": {
     "end_time": "2020-05-13T11:04:49.024020Z",
     "start_time": "2020-05-13T11:04:48.836515Z"
    }
   },
   "outputs": [],
   "source": [
    "df_private.rename(columns={'property_description':'Description','property_addedtime':'Added_time','property_address':'Address','property_balcony':'Balcony',\n",
    "                           'property_bedroom':'Bedrooms','property_garden':'Garden','property_parking':'Parking',\n",
    "                          'property_penthouse':'Penthouse','property_postcode':'Postcode','property_price':'Price',\n",
    "                          'property_tenure':'Tenure', 'property_tube':'Tube','property_tubedist':'Tubedist'},inplace=True)\n",
    "\n",
    "#Drop rows with missing price as price is the most important information\n",
    "df_private.dropna(subset=['Price'])\n",
    "df_commercial.dropna(subset=['price'])\n",
    "\n",
    "#Fill NaNs with NA in all remainding columns\n",
    "df_private.fillna('NA', inplace = True)\n",
    "df_commercial.fillna('NA', inplace = True)\n",
    "\n",
    "## choose only address, as headings from 99 files were also merge into df\n",
    "df_private = df_private[df_private['Postcode'] != 'Postcode']"
   ]
  },
  {
   "cell_type": "code",
   "execution_count": 9,
   "metadata": {
    "ExecuteTime": {
     "end_time": "2020-05-13T11:04:49.051944Z",
     "start_time": "2020-05-13T11:04:49.026008Z"
    }
   },
   "outputs": [],
   "source": [
    "#Groupby to get a better understanding of the collected data\n",
    "df_private_summary = df_private\n",
    "df_private_summary.loc[:, \"weight\"] = 1\n",
    "df_bedroom_summary = pd.DataFrame(df_private_summary.groupby(by=['Bedrooms'], as_index=False)['weight'].aggregate(np.sum))\n",
    "df_tenure_summary = pd.DataFrame(df_private_summary.groupby(by=['Tenure'], as_index=False)['weight'].aggregate(np.sum))"
   ]
  },
  {
   "cell_type": "code",
   "execution_count": 64,
   "metadata": {
    "ExecuteTime": {
     "end_time": "2020-05-13T12:39:58.860939Z",
     "start_time": "2020-05-13T12:39:58.803095Z"
    }
   },
   "outputs": [
    {
     "ename": "KeyError",
     "evalue": "'Type'",
     "output_type": "error",
     "traceback": [
      "\u001b[1;31m---------------------------------------------------------------------------\u001b[0m",
      "\u001b[1;31mKeyError\u001b[0m                                  Traceback (most recent call last)",
      "\u001b[1;32m<ipython-input-64-5876bdb894a8>\u001b[0m in \u001b[0;36m<module>\u001b[1;34m\u001b[0m\n\u001b[1;32m----> 1\u001b[1;33m \u001b[0mdf_type_summary\u001b[0m \u001b[1;33m=\u001b[0m \u001b[0mpd\u001b[0m\u001b[1;33m.\u001b[0m\u001b[0mDataFrame\u001b[0m\u001b[1;33m(\u001b[0m\u001b[0mdf_private_summary\u001b[0m\u001b[1;33m.\u001b[0m\u001b[0mgroupby\u001b[0m\u001b[1;33m(\u001b[0m\u001b[0mby\u001b[0m\u001b[1;33m=\u001b[0m\u001b[1;33m[\u001b[0m\u001b[1;34m'Type'\u001b[0m\u001b[1;33m]\u001b[0m\u001b[1;33m,\u001b[0m \u001b[0mas_index\u001b[0m\u001b[1;33m=\u001b[0m\u001b[1;32mFalse\u001b[0m\u001b[1;33m)\u001b[0m\u001b[1;33m[\u001b[0m\u001b[1;34m'weight'\u001b[0m\u001b[1;33m]\u001b[0m\u001b[1;33m.\u001b[0m\u001b[0maggregate\u001b[0m\u001b[1;33m(\u001b[0m\u001b[0mnp\u001b[0m\u001b[1;33m.\u001b[0m\u001b[0msum\u001b[0m\u001b[1;33m)\u001b[0m\u001b[1;33m)\u001b[0m\u001b[1;33m\u001b[0m\u001b[1;33m\u001b[0m\u001b[0m\n\u001b[0m",
      "\u001b[1;32m~\\Anaconda3\\lib\\site-packages\\pandas\\core\\generic.py\u001b[0m in \u001b[0;36mgroupby\u001b[1;34m(self, by, axis, level, as_index, sort, group_keys, squeeze, observed, **kwargs)\u001b[0m\n\u001b[0;32m   7630\u001b[0m         return groupby(self, by=by, axis=axis, level=level, as_index=as_index,\n\u001b[0;32m   7631\u001b[0m                        \u001b[0msort\u001b[0m\u001b[1;33m=\u001b[0m\u001b[0msort\u001b[0m\u001b[1;33m,\u001b[0m \u001b[0mgroup_keys\u001b[0m\u001b[1;33m=\u001b[0m\u001b[0mgroup_keys\u001b[0m\u001b[1;33m,\u001b[0m \u001b[0msqueeze\u001b[0m\u001b[1;33m=\u001b[0m\u001b[0msqueeze\u001b[0m\u001b[1;33m,\u001b[0m\u001b[1;33m\u001b[0m\u001b[1;33m\u001b[0m\u001b[0m\n\u001b[1;32m-> 7632\u001b[1;33m                        observed=observed, **kwargs)\n\u001b[0m\u001b[0;32m   7633\u001b[0m \u001b[1;33m\u001b[0m\u001b[0m\n\u001b[0;32m   7634\u001b[0m     def asfreq(self, freq, method=None, how=None, normalize=False,\n",
      "\u001b[1;32m~\\Anaconda3\\lib\\site-packages\\pandas\\core\\groupby\\groupby.py\u001b[0m in \u001b[0;36mgroupby\u001b[1;34m(obj, by, **kwds)\u001b[0m\n\u001b[0;32m   2108\u001b[0m         \u001b[1;32mraise\u001b[0m \u001b[0mTypeError\u001b[0m\u001b[1;33m(\u001b[0m\u001b[1;34m'invalid type: {}'\u001b[0m\u001b[1;33m.\u001b[0m\u001b[0mformat\u001b[0m\u001b[1;33m(\u001b[0m\u001b[0mobj\u001b[0m\u001b[1;33m)\u001b[0m\u001b[1;33m)\u001b[0m\u001b[1;33m\u001b[0m\u001b[1;33m\u001b[0m\u001b[0m\n\u001b[0;32m   2109\u001b[0m \u001b[1;33m\u001b[0m\u001b[0m\n\u001b[1;32m-> 2110\u001b[1;33m     \u001b[1;32mreturn\u001b[0m \u001b[0mklass\u001b[0m\u001b[1;33m(\u001b[0m\u001b[0mobj\u001b[0m\u001b[1;33m,\u001b[0m \u001b[0mby\u001b[0m\u001b[1;33m,\u001b[0m \u001b[1;33m**\u001b[0m\u001b[0mkwds\u001b[0m\u001b[1;33m)\u001b[0m\u001b[1;33m\u001b[0m\u001b[1;33m\u001b[0m\u001b[0m\n\u001b[0m",
      "\u001b[1;32m~\\Anaconda3\\lib\\site-packages\\pandas\\core\\groupby\\groupby.py\u001b[0m in \u001b[0;36m__init__\u001b[1;34m(self, obj, keys, axis, level, grouper, exclusions, selection, as_index, sort, group_keys, squeeze, observed, **kwargs)\u001b[0m\n\u001b[0;32m    358\u001b[0m                                                     \u001b[0msort\u001b[0m\u001b[1;33m=\u001b[0m\u001b[0msort\u001b[0m\u001b[1;33m,\u001b[0m\u001b[1;33m\u001b[0m\u001b[1;33m\u001b[0m\u001b[0m\n\u001b[0;32m    359\u001b[0m                                                     \u001b[0mobserved\u001b[0m\u001b[1;33m=\u001b[0m\u001b[0mobserved\u001b[0m\u001b[1;33m,\u001b[0m\u001b[1;33m\u001b[0m\u001b[1;33m\u001b[0m\u001b[0m\n\u001b[1;32m--> 360\u001b[1;33m                                                     mutated=self.mutated)\n\u001b[0m\u001b[0;32m    361\u001b[0m \u001b[1;33m\u001b[0m\u001b[0m\n\u001b[0;32m    362\u001b[0m         \u001b[0mself\u001b[0m\u001b[1;33m.\u001b[0m\u001b[0mobj\u001b[0m \u001b[1;33m=\u001b[0m \u001b[0mobj\u001b[0m\u001b[1;33m\u001b[0m\u001b[1;33m\u001b[0m\u001b[0m\n",
      "\u001b[1;32m~\\Anaconda3\\lib\\site-packages\\pandas\\core\\groupby\\grouper.py\u001b[0m in \u001b[0;36m_get_grouper\u001b[1;34m(obj, key, axis, level, sort, observed, mutated, validate)\u001b[0m\n\u001b[0;32m    576\u001b[0m                 \u001b[0min_axis\u001b[0m\u001b[1;33m,\u001b[0m \u001b[0mname\u001b[0m\u001b[1;33m,\u001b[0m \u001b[0mlevel\u001b[0m\u001b[1;33m,\u001b[0m \u001b[0mgpr\u001b[0m \u001b[1;33m=\u001b[0m \u001b[1;32mFalse\u001b[0m\u001b[1;33m,\u001b[0m \u001b[1;32mNone\u001b[0m\u001b[1;33m,\u001b[0m \u001b[0mgpr\u001b[0m\u001b[1;33m,\u001b[0m \u001b[1;32mNone\u001b[0m\u001b[1;33m\u001b[0m\u001b[1;33m\u001b[0m\u001b[0m\n\u001b[0;32m    577\u001b[0m             \u001b[1;32melse\u001b[0m\u001b[1;33m:\u001b[0m\u001b[1;33m\u001b[0m\u001b[1;33m\u001b[0m\u001b[0m\n\u001b[1;32m--> 578\u001b[1;33m                 \u001b[1;32mraise\u001b[0m \u001b[0mKeyError\u001b[0m\u001b[1;33m(\u001b[0m\u001b[0mgpr\u001b[0m\u001b[1;33m)\u001b[0m\u001b[1;33m\u001b[0m\u001b[1;33m\u001b[0m\u001b[0m\n\u001b[0m\u001b[0;32m    579\u001b[0m         \u001b[1;32melif\u001b[0m \u001b[0misinstance\u001b[0m\u001b[1;33m(\u001b[0m\u001b[0mgpr\u001b[0m\u001b[1;33m,\u001b[0m \u001b[0mGrouper\u001b[0m\u001b[1;33m)\u001b[0m \u001b[1;32mand\u001b[0m \u001b[0mgpr\u001b[0m\u001b[1;33m.\u001b[0m\u001b[0mkey\u001b[0m \u001b[1;32mis\u001b[0m \u001b[1;32mnot\u001b[0m \u001b[1;32mNone\u001b[0m\u001b[1;33m:\u001b[0m\u001b[1;33m\u001b[0m\u001b[1;33m\u001b[0m\u001b[0m\n\u001b[0;32m    580\u001b[0m             \u001b[1;31m# Add key to exclusions\u001b[0m\u001b[1;33m\u001b[0m\u001b[1;33m\u001b[0m\u001b[1;33m\u001b[0m\u001b[0m\n",
      "\u001b[1;31mKeyError\u001b[0m: 'Type'"
     ]
    }
   ],
   "source": [
    "df_type_summary = pd.DataFrame(df_private_summary.groupby(by=['Type'], as_index=False)['weight'].aggregate(np.sum))"
   ]
  },
  {
   "cell_type": "code",
   "execution_count": 10,
   "metadata": {
    "ExecuteTime": {
     "end_time": "2020-05-13T11:04:49.063689Z",
     "start_time": "2020-05-13T11:04:49.053714Z"
    }
   },
   "outputs": [
    {
     "data": {
      "text/html": [
       "<div>\n",
       "<style scoped>\n",
       "    .dataframe tbody tr th:only-of-type {\n",
       "        vertical-align: middle;\n",
       "    }\n",
       "\n",
       "    .dataframe tbody tr th {\n",
       "        vertical-align: top;\n",
       "    }\n",
       "\n",
       "    .dataframe thead th {\n",
       "        text-align: right;\n",
       "    }\n",
       "</style>\n",
       "<table border=\"1\" class=\"dataframe\">\n",
       "  <thead>\n",
       "    <tr style=\"text-align: right;\">\n",
       "      <th></th>\n",
       "      <th>Bedrooms</th>\n",
       "      <th>weight</th>\n",
       "    </tr>\n",
       "  </thead>\n",
       "  <tbody>\n",
       "    <tr>\n",
       "      <th>0</th>\n",
       "      <td>1</td>\n",
       "      <td>6302</td>\n",
       "    </tr>\n",
       "    <tr>\n",
       "      <th>1</th>\n",
       "      <td>2</td>\n",
       "      <td>11508</td>\n",
       "    </tr>\n",
       "    <tr>\n",
       "      <th>2</th>\n",
       "      <td>3</td>\n",
       "      <td>7625</td>\n",
       "    </tr>\n",
       "    <tr>\n",
       "      <th>3</th>\n",
       "      <td>4</td>\n",
       "      <td>3552</td>\n",
       "    </tr>\n",
       "    <tr>\n",
       "      <th>4</th>\n",
       "      <td>5</td>\n",
       "      <td>1573</td>\n",
       "    </tr>\n",
       "    <tr>\n",
       "      <th>5</th>\n",
       "      <td>6</td>\n",
       "      <td>444</td>\n",
       "    </tr>\n",
       "    <tr>\n",
       "      <th>6</th>\n",
       "      <td>7</td>\n",
       "      <td>115</td>\n",
       "    </tr>\n",
       "    <tr>\n",
       "      <th>7</th>\n",
       "      <td>8</td>\n",
       "      <td>47</td>\n",
       "    </tr>\n",
       "    <tr>\n",
       "      <th>8</th>\n",
       "      <td>9</td>\n",
       "      <td>14</td>\n",
       "    </tr>\n",
       "    <tr>\n",
       "      <th>9</th>\n",
       "      <td>B</td>\n",
       "      <td>3</td>\n",
       "    </tr>\n",
       "    <tr>\n",
       "      <th>10</th>\n",
       "      <td>D</td>\n",
       "      <td>13</td>\n",
       "    </tr>\n",
       "    <tr>\n",
       "      <th>11</th>\n",
       "      <td>E</td>\n",
       "      <td>1</td>\n",
       "    </tr>\n",
       "    <tr>\n",
       "      <th>12</th>\n",
       "      <td>G</td>\n",
       "      <td>23</td>\n",
       "    </tr>\n",
       "    <tr>\n",
       "      <th>13</th>\n",
       "      <td>H</td>\n",
       "      <td>12</td>\n",
       "    </tr>\n",
       "    <tr>\n",
       "      <th>14</th>\n",
       "      <td>L</td>\n",
       "      <td>64</td>\n",
       "    </tr>\n",
       "    <tr>\n",
       "      <th>15</th>\n",
       "      <td>M</td>\n",
       "      <td>4</td>\n",
       "    </tr>\n",
       "    <tr>\n",
       "      <th>16</th>\n",
       "      <td>P</td>\n",
       "      <td>58</td>\n",
       "    </tr>\n",
       "    <tr>\n",
       "      <th>17</th>\n",
       "      <td>R</td>\n",
       "      <td>5</td>\n",
       "    </tr>\n",
       "    <tr>\n",
       "      <th>18</th>\n",
       "      <td>S</td>\n",
       "      <td>614</td>\n",
       "    </tr>\n",
       "    <tr>\n",
       "      <th>19</th>\n",
       "      <td>T</td>\n",
       "      <td>8</td>\n",
       "    </tr>\n",
       "    <tr>\n",
       "      <th>20</th>\n",
       "      <td>property_bedroom</td>\n",
       "      <td>1</td>\n",
       "    </tr>\n",
       "  </tbody>\n",
       "</table>\n",
       "</div>"
      ],
      "text/plain": [
       "            Bedrooms  weight\n",
       "0                  1    6302\n",
       "1                  2   11508\n",
       "2                  3    7625\n",
       "3                  4    3552\n",
       "4                  5    1573\n",
       "5                  6     444\n",
       "6                  7     115\n",
       "7                  8      47\n",
       "8                  9      14\n",
       "9                  B       3\n",
       "10                 D      13\n",
       "11                 E       1\n",
       "12                 G      23\n",
       "13                 H      12\n",
       "14                 L      64\n",
       "15                 M       4\n",
       "16                 P      58\n",
       "17                 R       5\n",
       "18                 S     614\n",
       "19                 T       8\n",
       "20  property_bedroom       1"
      ]
     },
     "execution_count": 10,
     "metadata": {},
     "output_type": "execute_result"
    }
   ],
   "source": [
    "df_bedroom_summary"
   ]
  },
  {
   "cell_type": "code",
   "execution_count": null,
   "metadata": {
    "ExecuteTime": {
     "end_time": "2020-05-13T00:00:59.991969Z",
     "start_time": "2020-05-13T00:00:59.955069Z"
    }
   },
   "outputs": [],
   "source": []
  },
  {
   "cell_type": "code",
   "execution_count": 11,
   "metadata": {
    "ExecuteTime": {
     "end_time": "2020-05-13T11:04:49.221271Z",
     "start_time": "2020-05-13T11:04:49.067677Z"
    }
   },
   "outputs": [],
   "source": [
    "df_private.loc[((df_private['Penthouse'] == 'False')), 'Penthouse'] = False\n",
    "df_private.loc[((df_private['Penthouse'] == 'True')), 'Penthouse'] = True\n",
    "df_private.loc[((df_private['Balcony'] == 'False')), 'Balcony'] = False\n",
    "df_private.loc[((df_private['Balcony'] == 'True')), 'Balcony'] = True\n",
    "df_private.loc[((df_private['Garden'] == 'False')), 'Garden'] = False\n",
    "df_private.loc[((df_private['Garden'] == 'True')), 'Garden'] = True\n",
    "df_private.loc[((df_private['Parking'] == 'False')), 'Parking'] = False\n",
    "df_private.loc[((df_private['Parking'] == 'True')), 'Parking'] = True\n",
    "\n",
    "df_private['Bedrooms']= pd.to_numeric(df_private['Bedrooms'], errors = 'coerce') #I chose to remove 806 non-numerical entries\n",
    "df_private['Price']= pd.to_numeric(df_private['Price'], errors = 'coerce')\n",
    "df_private['Address'].astype(str)\n",
    "df_private['Postcode'].astype(str)\n",
    "df_private['Description'].astype(str)\n",
    "df_private['Tenure'].astype(str)\n",
    "df_private['Penthouse'].astype(bool)\n",
    "df_private['Parking'].astype(bool)\n",
    "df_private['Garden'].astype(bool)\n",
    "df_private['Balcony'].astype(bool)\n",
    "df_private['Tube'].astype(str)\n",
    "df_private['Tubedist'].astype(str)\n",
    "\n",
    "df_commercial['price']= pd.to_numeric(df_commercial['price'], errors = 'coerce')"
   ]
  },
  {
   "cell_type": "code",
   "execution_count": 12,
   "metadata": {
    "ExecuteTime": {
     "end_time": "2020-05-13T11:04:49.228247Z",
     "start_time": "2020-05-13T11:04:49.223260Z"
    }
   },
   "outputs": [],
   "source": [
    "# search for true meaning of these property_description/property_type\n",
    "\n",
    "# 'apartment' is a suite of rooms forming one residence, typically in a building containing a number of these.\n",
    "# 'block of apartments' is a bulding with a suite of rooms forming one residence.\n",
    "# 'chalet' is a wooden house or cottage with overhanging eaves.\n",
    "# 'cottage' is a small house. It may carry the connotation of being an old or old-fashioned building.\n",
    "# 'detached house' is a stand-alone house is a free-standing residential building. \n",
    "# 'duplex' is an apartments that is situated on two floor.\n",
    "# 'equestrian facility' is created and maintained for the purpose of accommodating, training or competing equids, especially horses.\n",
    "# 'flat' is an apartment comes from the Old English word flett, which means floor, a dwelling.\n",
    "# 'house' is a building for human habitation, especially one that is lived in by a family or small group of people.\n",
    "# 'house' boat is a boat that has been designed or modified to be used primarily as a home.\n",
    "# 'mews house' is a British name for a row or courtyard of stables and carriage houses with living quarters above them, built behind large city houses before motor vehicles replaced horses\n",
    "# 'off-plan' is a property that hasn't yet been built\n",
    "# 'penthouse' is an apartment on the highest floor of an apartment building, condominium, or hotel. Penthouses are typically differentiated from other apartments by luxury features.\n",
    "# 'property' is a thing or things belonging to someone; possessions collectively.\n",
    "# 'retirement' home is a multi-residence housing facility intended for the elderly.\n",
    "# 'semi-detached' house is a single family duplex dwelling house that shares one common wall with the next house\n",
    "# 'terraced house' is a form of housing whereby a row of attached dwellings share side walls.\n",
    "# 'town house' is a type of terraced housing."
   ]
  },
  {
   "cell_type": "code",
   "execution_count": 13,
   "metadata": {
    "ExecuteTime": {
     "end_time": "2020-05-13T11:04:49.844627Z",
     "start_time": "2020-05-13T11:04:49.232237Z"
    }
   },
   "outputs": [],
   "source": [
    "### based on the definition above, some of these properties are referring to the same type of property\n",
    "# but use different terms. Therefore, we can first rename these properties under the same name.\n",
    "\n",
    "# clean data to make value within the field an attribute data\n",
    "df_private['Description'] = df_private['Description'].str.replace(\"bedroom\",\"\")\n",
    "df_private['Description'] = df_private['Description'].str.replace(\"for sale\",\"\")\n",
    "df_private['Description'] = df_private['Description'].str.replace(\"ground\",\"\")\n",
    "df_private['Description'] = df_private['Description'].str.replace(\"floor\",\"\")\n",
    "df_private['Description'] = df_private['Description'].str.replace(\"end of\",\"\")\n",
    "#df_private['property_description'] = df_private['property_description'].str.replace(\"block of\",\"\") \n",
    "df_private['Description'] = df_private['Description'].str.replace(\"character\",\"\")\n",
    "df_private['Description'] = df_private['Description'].str.replace(\"share\",\"\")\n",
    "df_private['Description'] = df_private['Description'].str.replace(\"link\",\"\")\n",
    "df_private['Description'] = df_private['Description'].str.replace(\"sheltered housing\",\n",
    "                                                                  \"retirement home\")\n",
    "df_private['Description'] = df_private['Description'].str.replace(\"retirement property\",\n",
    "                                                                  \"retirement home\")\n",
    "\n",
    "# weird naming, detached bungalow should be detached house\n",
    "df_private['Description'] = df_private['Description'].str.replace(\"bungalow\",\"house\")\n",
    "df_private['Description'] = df_private['Description'].str.replace(\"terrace house\",\"terraced house\")\n",
    "\n",
    "# maisonette is flat on two-floor. So it should be classed as duplex\n",
    "df_private['Description'] = df_private['Description'].str.replace(\"maisonette\",\"duplex\") \n",
    "\n",
    "# duplex should be duplex apartment\n",
    "df_private['Description'] = df_private['Description'].str.replace(\"duplex\",\"duplex apartment\")\n",
    "\n",
    "# town house should be classed as terraced house \n",
    "df_private['property_description'] = df_private['Description'].str.replace(\"town\",\"terraced\")\n",
    "\n",
    "# equestrian facility should be classed as a mews house \n",
    "df_private['Description'] = df_private['Description'].str.replace(\"equestrian facility\",\"mews house\")\n",
    "\n",
    "# remove number of rooms since there is a column/attribute for that already\n",
    "df_private['Description'] = df_private['Description'].str.replace(\"0\",\"\")\n",
    "df_private['Description'] = df_private['Description'].str.replace(\"1\",\"\")\n",
    "df_private['Description'] = df_private['Description'].str.replace(\"2\",\"\")\n",
    "df_private['Description'] = df_private['Description'].str.replace(\"3\",\"\")\n",
    "df_private['Description'] = df_private['Description'].str.replace(\"4\",\"\")\n",
    "df_private['Description'] = df_private['Description'].str.replace(\"5\",\"\")\n",
    "df_private['Description'] = df_private['Description'].str.replace(\"6\",\"\")\n",
    "df_private['Description'] = df_private['Description'].str.replace(\"7\",\"\")\n",
    "df_private['Description'] = df_private['Description'].str.replace(\"8\",\"\")\n",
    "df_private['Description'] = df_private['Description'].str.replace(\"9\",\"\")"
   ]
  },
  {
   "cell_type": "code",
   "execution_count": 14,
   "metadata": {
    "ExecuteTime": {
     "end_time": "2020-05-13T11:04:49.933889Z",
     "start_time": "2020-05-13T11:04:49.847613Z"
    }
   },
   "outputs": [],
   "source": [
    "df_private = df_private[df_private['Description'] != '24 bedroom block of apartments for sale']\n",
    "df_private = df_private[df_private['Description'] != '60 bedroom property for sale']\n",
    "df_private = df_private[df_private['Description'] != '60 bedroom terraced house for sale'] \n",
    "df_private = df_private[df_private['Description'] != '92 bedroom flat for sale']\n",
    "\n",
    "# df_private['property_description'] = df_private['property_description'].str.replace(\" \",\"\") #remove every space\n",
    "# replace space in front and back with \"\"\n",
    "df_private['Description'] = df_private['Description'].str.strip()"
   ]
  },
  {
   "cell_type": "code",
   "execution_count": 15,
   "metadata": {
    "ExecuteTime": {
     "end_time": "2020-05-13T11:04:49.996016Z",
     "start_time": "2020-05-13T11:04:49.935884Z"
    }
   },
   "outputs": [],
   "source": [
    "### remove all unwanted property type, to enhance the accuracy of pricing analysis\n",
    "\n",
    "# property because we dont know which property it is \n",
    "df_private = df_private[df_private['Description'] != 'property']\n",
    "\n",
    "# off-plan\n",
    "df_private = df_private[df_private['Description'] != 'off-plan']\n",
    "\n",
    "# house boat\n",
    "df_private = df_private[df_private['Description'] != 'house boat']\n",
    "\n",
    "# most likely to be use for commercial\n",
    "df_private = df_private[df_private['Description'] != 'block of apartments']"
   ]
  },
  {
   "cell_type": "code",
   "execution_count": 16,
   "metadata": {
    "ExecuteTime": {
     "end_time": "2020-05-13T11:04:50.077877Z",
     "start_time": "2020-05-13T11:04:49.999715Z"
    }
   },
   "outputs": [],
   "source": [
    "df_private.loc[:,'property_type'] = df_private['Description']\n",
    "df_private.drop(['Description'], axis=1, inplace=True)"
   ]
  },
  {
   "cell_type": "code",
   "execution_count": 17,
   "metadata": {
    "ExecuteTime": {
     "end_time": "2020-05-13T11:04:50.128965Z",
     "start_time": "2020-05-13T11:04:50.081495Z"
    }
   },
   "outputs": [],
   "source": [
    "# create another column for property group \n",
    "# where properties will be categorised into 3 group. One is Flat/Apartment, two is House and three is Other\n",
    "\n",
    "# group two = House\n",
    "df_private.loc[:,'property_group'] = 'House'\n",
    "\n",
    "# group one = Flat/Apartment\n",
    "df_private.loc[((df_private['property_type'] == 'flat')), 'property_group'] = 'Flat/Apartment'\n",
    "df_private.loc[((df_private['property_type'] == 'apartment')), 'property_group'] = 'Flat/Apartment'\n",
    "df_private.loc[((df_private['property_type'] == 'duplex apartment')), 'property_group'] = 'Flat/Apartment'\n",
    "df_private.loc[((df_private['property_type'] == 'penthouse')), 'property_group'] = 'Flat/Apartment'"
   ]
  },
  {
   "cell_type": "code",
   "execution_count": 18,
   "metadata": {
    "ExecuteTime": {
     "end_time": "2020-05-13T11:04:50.152524Z",
     "start_time": "2020-05-13T11:04:50.132579Z"
    }
   },
   "outputs": [
    {
     "data": {
      "text/html": [
       "<div>\n",
       "<style scoped>\n",
       "    .dataframe tbody tr th:only-of-type {\n",
       "        vertical-align: middle;\n",
       "    }\n",
       "\n",
       "    .dataframe tbody tr th {\n",
       "        vertical-align: top;\n",
       "    }\n",
       "\n",
       "    .dataframe thead th {\n",
       "        text-align: right;\n",
       "    }\n",
       "</style>\n",
       "<table border=\"1\" class=\"dataframe\">\n",
       "  <thead>\n",
       "    <tr style=\"text-align: right;\">\n",
       "      <th></th>\n",
       "      <th>Tenure</th>\n",
       "      <th>weight</th>\n",
       "    </tr>\n",
       "  </thead>\n",
       "  <tbody>\n",
       "    <tr>\n",
       "      <th>0</th>\n",
       "      <td>Commonhold</td>\n",
       "      <td>6</td>\n",
       "    </tr>\n",
       "    <tr>\n",
       "      <th>1</th>\n",
       "      <td>Freehold</td>\n",
       "      <td>9220</td>\n",
       "    </tr>\n",
       "    <tr>\n",
       "      <th>2</th>\n",
       "      <td>Leasehold</td>\n",
       "      <td>11724</td>\n",
       "    </tr>\n",
       "    <tr>\n",
       "      <th>3</th>\n",
       "      <td>Leasehold, 1 years remaining</td>\n",
       "      <td>2</td>\n",
       "    </tr>\n",
       "    <tr>\n",
       "      <th>4</th>\n",
       "      <td>Leasehold, 10 years remaining</td>\n",
       "      <td>1</td>\n",
       "    </tr>\n",
       "    <tr>\n",
       "      <th>5</th>\n",
       "      <td>Leasehold, 100 years remaining</td>\n",
       "      <td>45</td>\n",
       "    </tr>\n",
       "    <tr>\n",
       "      <th>6</th>\n",
       "      <td>Leasehold, 1000 years remaining</td>\n",
       "      <td>4</td>\n",
       "    </tr>\n",
       "    <tr>\n",
       "      <th>7</th>\n",
       "      <td>Leasehold, 101 years remaining</td>\n",
       "      <td>5</td>\n",
       "    </tr>\n",
       "    <tr>\n",
       "      <th>8</th>\n",
       "      <td>Leasehold, 102 years remaining</td>\n",
       "      <td>9</td>\n",
       "    </tr>\n",
       "    <tr>\n",
       "      <th>9</th>\n",
       "      <td>Leasehold, 103 years remaining</td>\n",
       "      <td>11</td>\n",
       "    </tr>\n",
       "    <tr>\n",
       "      <th>10</th>\n",
       "      <td>Leasehold, 104 years remaining</td>\n",
       "      <td>9</td>\n",
       "    </tr>\n",
       "    <tr>\n",
       "      <th>11</th>\n",
       "      <td>Leasehold, 105 years remaining</td>\n",
       "      <td>19</td>\n",
       "    </tr>\n",
       "    <tr>\n",
       "      <th>12</th>\n",
       "      <td>Leasehold, 106 years remaining</td>\n",
       "      <td>11</td>\n",
       "    </tr>\n",
       "    <tr>\n",
       "      <th>13</th>\n",
       "      <td>Leasehold, 107 years remaining</td>\n",
       "      <td>11</td>\n",
       "    </tr>\n",
       "    <tr>\n",
       "      <th>14</th>\n",
       "      <td>Leasehold, 108 years remaining</td>\n",
       "      <td>18</td>\n",
       "    </tr>\n",
       "    <tr>\n",
       "      <th>15</th>\n",
       "      <td>Leasehold, 109 years remaining</td>\n",
       "      <td>14</td>\n",
       "    </tr>\n",
       "    <tr>\n",
       "      <th>16</th>\n",
       "      <td>Leasehold, 110 years remaining</td>\n",
       "      <td>30</td>\n",
       "    </tr>\n",
       "    <tr>\n",
       "      <th>17</th>\n",
       "      <td>Leasehold, 111 years remaining</td>\n",
       "      <td>27</td>\n",
       "    </tr>\n",
       "    <tr>\n",
       "      <th>18</th>\n",
       "      <td>Leasehold, 112 years remaining</td>\n",
       "      <td>10</td>\n",
       "    </tr>\n",
       "    <tr>\n",
       "      <th>19</th>\n",
       "      <td>Leasehold, 113 years remaining</td>\n",
       "      <td>21</td>\n",
       "    </tr>\n",
       "    <tr>\n",
       "      <th>20</th>\n",
       "      <td>Leasehold, 114 years remaining</td>\n",
       "      <td>9</td>\n",
       "    </tr>\n",
       "    <tr>\n",
       "      <th>21</th>\n",
       "      <td>Leasehold, 115 years remaining</td>\n",
       "      <td>24</td>\n",
       "    </tr>\n",
       "    <tr>\n",
       "      <th>22</th>\n",
       "      <td>Leasehold, 116 years remaining</td>\n",
       "      <td>10</td>\n",
       "    </tr>\n",
       "    <tr>\n",
       "      <th>23</th>\n",
       "      <td>Leasehold, 117 years remaining</td>\n",
       "      <td>17</td>\n",
       "    </tr>\n",
       "    <tr>\n",
       "      <th>24</th>\n",
       "      <td>Leasehold, 118 years remaining</td>\n",
       "      <td>15</td>\n",
       "    </tr>\n",
       "    <tr>\n",
       "      <th>25</th>\n",
       "      <td>Leasehold, 119 years remaining</td>\n",
       "      <td>18</td>\n",
       "    </tr>\n",
       "    <tr>\n",
       "      <th>26</th>\n",
       "      <td>Leasehold, 120 years remaining</td>\n",
       "      <td>41</td>\n",
       "    </tr>\n",
       "    <tr>\n",
       "      <th>27</th>\n",
       "      <td>Leasehold, 121 years remaining</td>\n",
       "      <td>18</td>\n",
       "    </tr>\n",
       "    <tr>\n",
       "      <th>28</th>\n",
       "      <td>Leasehold, 122 years remaining</td>\n",
       "      <td>21</td>\n",
       "    </tr>\n",
       "    <tr>\n",
       "      <th>29</th>\n",
       "      <td>Leasehold, 123 years remaining</td>\n",
       "      <td>14</td>\n",
       "    </tr>\n",
       "    <tr>\n",
       "      <th>...</th>\n",
       "      <td>...</td>\n",
       "      <td>...</td>\n",
       "    </tr>\n",
       "    <tr>\n",
       "      <th>170</th>\n",
       "      <td>Leasehold, 973 years remaining</td>\n",
       "      <td>1</td>\n",
       "    </tr>\n",
       "    <tr>\n",
       "      <th>171</th>\n",
       "      <td>Leasehold, 975 years remaining</td>\n",
       "      <td>2</td>\n",
       "    </tr>\n",
       "    <tr>\n",
       "      <th>172</th>\n",
       "      <td>Leasehold, 977 years remaining</td>\n",
       "      <td>3</td>\n",
       "    </tr>\n",
       "    <tr>\n",
       "      <th>173</th>\n",
       "      <td>Leasehold, 978 years remaining</td>\n",
       "      <td>2</td>\n",
       "    </tr>\n",
       "    <tr>\n",
       "      <th>174</th>\n",
       "      <td>Leasehold, 979 years remaining</td>\n",
       "      <td>5</td>\n",
       "    </tr>\n",
       "    <tr>\n",
       "      <th>175</th>\n",
       "      <td>Leasehold, 98 years remaining</td>\n",
       "      <td>16</td>\n",
       "    </tr>\n",
       "    <tr>\n",
       "      <th>176</th>\n",
       "      <td>Leasehold, 980 years remaining</td>\n",
       "      <td>6</td>\n",
       "    </tr>\n",
       "    <tr>\n",
       "      <th>177</th>\n",
       "      <td>Leasehold, 981 years remaining</td>\n",
       "      <td>4</td>\n",
       "    </tr>\n",
       "    <tr>\n",
       "      <th>178</th>\n",
       "      <td>Leasehold, 982 years remaining</td>\n",
       "      <td>3</td>\n",
       "    </tr>\n",
       "    <tr>\n",
       "      <th>179</th>\n",
       "      <td>Leasehold, 983 years remaining</td>\n",
       "      <td>1</td>\n",
       "    </tr>\n",
       "    <tr>\n",
       "      <th>180</th>\n",
       "      <td>Leasehold, 984 years remaining</td>\n",
       "      <td>2</td>\n",
       "    </tr>\n",
       "    <tr>\n",
       "      <th>181</th>\n",
       "      <td>Leasehold, 985 years remaining</td>\n",
       "      <td>8</td>\n",
       "    </tr>\n",
       "    <tr>\n",
       "      <th>182</th>\n",
       "      <td>Leasehold, 986 years remaining</td>\n",
       "      <td>4</td>\n",
       "    </tr>\n",
       "    <tr>\n",
       "      <th>183</th>\n",
       "      <td>Leasehold, 987 years remaining</td>\n",
       "      <td>6</td>\n",
       "    </tr>\n",
       "    <tr>\n",
       "      <th>184</th>\n",
       "      <td>Leasehold, 988 years remaining</td>\n",
       "      <td>1</td>\n",
       "    </tr>\n",
       "    <tr>\n",
       "      <th>185</th>\n",
       "      <td>Leasehold, 989 years remaining</td>\n",
       "      <td>6</td>\n",
       "    </tr>\n",
       "    <tr>\n",
       "      <th>186</th>\n",
       "      <td>Leasehold, 99 years remaining</td>\n",
       "      <td>22</td>\n",
       "    </tr>\n",
       "    <tr>\n",
       "      <th>187</th>\n",
       "      <td>Leasehold, 990 years remaining</td>\n",
       "      <td>8</td>\n",
       "    </tr>\n",
       "    <tr>\n",
       "      <th>188</th>\n",
       "      <td>Leasehold, 991 years remaining</td>\n",
       "      <td>4</td>\n",
       "    </tr>\n",
       "    <tr>\n",
       "      <th>189</th>\n",
       "      <td>Leasehold, 992 years remaining</td>\n",
       "      <td>2</td>\n",
       "    </tr>\n",
       "    <tr>\n",
       "      <th>190</th>\n",
       "      <td>Leasehold, 993 years remaining</td>\n",
       "      <td>17</td>\n",
       "    </tr>\n",
       "    <tr>\n",
       "      <th>191</th>\n",
       "      <td>Leasehold, 994 years remaining</td>\n",
       "      <td>8</td>\n",
       "    </tr>\n",
       "    <tr>\n",
       "      <th>192</th>\n",
       "      <td>Leasehold, 995 years remaining</td>\n",
       "      <td>8</td>\n",
       "    </tr>\n",
       "    <tr>\n",
       "      <th>193</th>\n",
       "      <td>Leasehold, 996 years remaining</td>\n",
       "      <td>9</td>\n",
       "    </tr>\n",
       "    <tr>\n",
       "      <th>194</th>\n",
       "      <td>Leasehold, 997 years remaining</td>\n",
       "      <td>8</td>\n",
       "    </tr>\n",
       "    <tr>\n",
       "      <th>195</th>\n",
       "      <td>Leasehold, 998 years remaining</td>\n",
       "      <td>5</td>\n",
       "    </tr>\n",
       "    <tr>\n",
       "      <th>196</th>\n",
       "      <td>Leasehold, 999 years remaining</td>\n",
       "      <td>125</td>\n",
       "    </tr>\n",
       "    <tr>\n",
       "      <th>197</th>\n",
       "      <td>NA</td>\n",
       "      <td>7319</td>\n",
       "    </tr>\n",
       "    <tr>\n",
       "      <th>198</th>\n",
       "      <td>Share of Freehold</td>\n",
       "      <td>2335</td>\n",
       "    </tr>\n",
       "    <tr>\n",
       "      <th>199</th>\n",
       "      <td>property_tenure</td>\n",
       "      <td>1</td>\n",
       "    </tr>\n",
       "  </tbody>\n",
       "</table>\n",
       "<p>200 rows × 2 columns</p>\n",
       "</div>"
      ],
      "text/plain": [
       "                              Tenure  weight\n",
       "0                         Commonhold       6\n",
       "1                           Freehold    9220\n",
       "2                          Leasehold   11724\n",
       "3       Leasehold, 1 years remaining       2\n",
       "4      Leasehold, 10 years remaining       1\n",
       "5     Leasehold, 100 years remaining      45\n",
       "6    Leasehold, 1000 years remaining       4\n",
       "7     Leasehold, 101 years remaining       5\n",
       "8     Leasehold, 102 years remaining       9\n",
       "9     Leasehold, 103 years remaining      11\n",
       "10    Leasehold, 104 years remaining       9\n",
       "11    Leasehold, 105 years remaining      19\n",
       "12    Leasehold, 106 years remaining      11\n",
       "13    Leasehold, 107 years remaining      11\n",
       "14    Leasehold, 108 years remaining      18\n",
       "15    Leasehold, 109 years remaining      14\n",
       "16    Leasehold, 110 years remaining      30\n",
       "17    Leasehold, 111 years remaining      27\n",
       "18    Leasehold, 112 years remaining      10\n",
       "19    Leasehold, 113 years remaining      21\n",
       "20    Leasehold, 114 years remaining       9\n",
       "21    Leasehold, 115 years remaining      24\n",
       "22    Leasehold, 116 years remaining      10\n",
       "23    Leasehold, 117 years remaining      17\n",
       "24    Leasehold, 118 years remaining      15\n",
       "25    Leasehold, 119 years remaining      18\n",
       "26    Leasehold, 120 years remaining      41\n",
       "27    Leasehold, 121 years remaining      18\n",
       "28    Leasehold, 122 years remaining      21\n",
       "29    Leasehold, 123 years remaining      14\n",
       "..                               ...     ...\n",
       "170   Leasehold, 973 years remaining       1\n",
       "171   Leasehold, 975 years remaining       2\n",
       "172   Leasehold, 977 years remaining       3\n",
       "173   Leasehold, 978 years remaining       2\n",
       "174   Leasehold, 979 years remaining       5\n",
       "175    Leasehold, 98 years remaining      16\n",
       "176   Leasehold, 980 years remaining       6\n",
       "177   Leasehold, 981 years remaining       4\n",
       "178   Leasehold, 982 years remaining       3\n",
       "179   Leasehold, 983 years remaining       1\n",
       "180   Leasehold, 984 years remaining       2\n",
       "181   Leasehold, 985 years remaining       8\n",
       "182   Leasehold, 986 years remaining       4\n",
       "183   Leasehold, 987 years remaining       6\n",
       "184   Leasehold, 988 years remaining       1\n",
       "185   Leasehold, 989 years remaining       6\n",
       "186    Leasehold, 99 years remaining      22\n",
       "187   Leasehold, 990 years remaining       8\n",
       "188   Leasehold, 991 years remaining       4\n",
       "189   Leasehold, 992 years remaining       2\n",
       "190   Leasehold, 993 years remaining      17\n",
       "191   Leasehold, 994 years remaining       8\n",
       "192   Leasehold, 995 years remaining       8\n",
       "193   Leasehold, 996 years remaining       9\n",
       "194   Leasehold, 997 years remaining       8\n",
       "195   Leasehold, 998 years remaining       5\n",
       "196   Leasehold, 999 years remaining     125\n",
       "197                               NA    7319\n",
       "198                Share of Freehold    2335\n",
       "199                  property_tenure       1\n",
       "\n",
       "[200 rows x 2 columns]"
      ]
     },
     "execution_count": 18,
     "metadata": {},
     "output_type": "execute_result"
    }
   ],
   "source": [
    "#Tenure entries need to be modified for better grouping\n",
    "df_tenure_summary"
   ]
  },
  {
   "cell_type": "code",
   "execution_count": 19,
   "metadata": {
    "ExecuteTime": {
     "end_time": "2020-05-13T11:04:50.159506Z",
     "start_time": "2020-05-13T11:04:50.155517Z"
    }
   },
   "outputs": [],
   "source": [
    "### fix property_tenure column to make value an attribute data \n",
    "\n",
    "# change any value that is not 'Commonhold' or 'Freehold' or 'Share of Freehold' or 'NA' (Get rid later)\n",
    "# also further/seperate EDA can be done on years remaining in relation to price of property \n",
    "# using every leasehold property record that have value of years remaining\n",
    "#df_private.loc[((df_private['property_tenure'] == 'Leasehold')), 'property_tenure'] = 'Leasehold'"
   ]
  },
  {
   "cell_type": "code",
   "execution_count": 20,
   "metadata": {
    "ExecuteTime": {
     "end_time": "2020-05-13T11:04:50.425084Z",
     "start_time": "2020-05-13T11:04:50.162499Z"
    }
   },
   "outputs": [],
   "source": [
    "### create another column to store the value of years remaining \n",
    "\n",
    "df_private.loc[:,'years_remaining'] = df_private['Tenure']\n",
    "\n",
    "### clean property_tenure\n",
    "\n",
    "# remove years remaining since there is a column/attribute for that already \n",
    "\n",
    "df_private['Tenure'] = df_private['Tenure'].str.replace(\"Leasehold,\",\"Leasehold\")\n",
    "df_private['Tenure'] = df_private['Tenure'].str.replace(\"years remaining\",\"\")\n",
    "\n",
    "df_private['Tenure'] = df_private['Tenure'].str.replace(\"0\",\"\")\n",
    "df_private['Tenure'] = df_private['Tenure'].str.replace(\"1\",\"\")\n",
    "df_private['Tenure'] = df_private['Tenure'].str.replace(\"2\",\"\")\n",
    "df_private['Tenure'] = df_private['Tenure'].str.replace(\"3\",\"\")\n",
    "df_private['Tenure'] = df_private['Tenure'].str.replace(\"4\",\"\")\n",
    "df_private['Tenure'] = df_private['Tenure'].str.replace(\"5\",\"\")\n",
    "df_private['Tenure'] = df_private['Tenure'].str.replace(\"6\",\"\")\n",
    "df_private['Tenure'] = df_private['Tenure'].str.replace(\"7\",\"\")\n",
    "df_private['Tenure'] = df_private['Tenure'].str.replace(\"8\",\"\")\n",
    "df_private['Tenure'] = df_private['Tenure'].str.replace(\"9\",\"\")\n",
    "\n",
    "\n",
    "\n",
    "### clean years_remaining\n",
    "\n",
    "# remove type of property_tenure since there is a column/attribute for that already\n",
    "df_private['years_remaining'] = df_private['years_remaining'].str.replace(\"Commonhold\",\"\")\n",
    "df_private['years_remaining'] = df_private['years_remaining'].str.replace(\"Share of Freehold\",\"\")\n",
    "df_private['years_remaining'] = df_private['years_remaining'].str.replace(\"Freehold\",\"\")\n",
    "df_private['years_remaining'] = df_private['years_remaining'].str.replace(\"Leasehold\",\"\")\n",
    "df_private['years_remaining'] = df_private['years_remaining'].str.replace(\",\",\"\")"
   ]
  },
  {
   "cell_type": "code",
   "execution_count": 21,
   "metadata": {
    "ExecuteTime": {
     "end_time": "2020-05-13T11:04:50.444772Z",
     "start_time": "2020-05-13T11:04:50.426790Z"
    }
   },
   "outputs": [],
   "source": [
    "#df_private['Tenure'] = df_private['property_tenure'].str.replace(\" \",\"\")\n",
    "df_private['Tenure'] = df_private['Tenure'].str.strip()"
   ]
  },
  {
   "cell_type": "code",
   "execution_count": 22,
   "metadata": {
    "ExecuteTime": {
     "end_time": "2020-05-13T11:04:50.466684Z",
     "start_time": "2020-05-13T11:04:50.447764Z"
    }
   },
   "outputs": [],
   "source": [
    "df_private['years_remaining'] = df_private['years_remaining'].str.strip()"
   ]
  },
  {
   "cell_type": "code",
   "execution_count": 23,
   "metadata": {
    "ExecuteTime": {
     "end_time": "2020-05-13T11:04:50.502624Z",
     "start_time": "2020-05-13T11:04:50.472667Z"
    }
   },
   "outputs": [],
   "source": [
    "# change NULL/Empty record to NA, NA for Not Available\n",
    "df_private.loc[((df_private['years_remaining'] == '')), 'years_remaining'] = 'NA'"
   ]
  },
  {
   "cell_type": "code",
   "execution_count": 24,
   "metadata": {
    "ExecuteTime": {
     "end_time": "2020-05-13T11:04:50.518545Z",
     "start_time": "2020-05-13T11:04:50.506578Z"
    }
   },
   "outputs": [
    {
     "data": {
      "text/plain": [
       "{'Commonhold',\n",
       " 'Freehold',\n",
       " 'Leasehold',\n",
       " 'NA',\n",
       " 'Share of Freehold',\n",
       " 'property_tenure'}"
      ]
     },
     "execution_count": 24,
     "metadata": {},
     "output_type": "execute_result"
    }
   ],
   "source": [
    "## check to see if value of property tenure is absolute\n",
    "set(df_private['Tenure'])"
   ]
  },
  {
   "cell_type": "code",
   "execution_count": 25,
   "metadata": {
    "ExecuteTime": {
     "end_time": "2020-05-13T11:04:50.540913Z",
     "start_time": "2020-05-13T11:04:50.520546Z"
    }
   },
   "outputs": [],
   "source": [
    "df_private = df_private[df_private['Tenure'] != 'property_tenure']"
   ]
  },
  {
   "cell_type": "code",
   "execution_count": 26,
   "metadata": {
    "ExecuteTime": {
     "end_time": "2020-05-13T11:04:50.556619Z",
     "start_time": "2020-05-13T11:04:50.542619Z"
    }
   },
   "outputs": [
    {
     "data": {
      "text/plain": [
       "{'Commonhold', 'Freehold', 'Leasehold', 'NA', 'Share of Freehold'}"
      ]
     },
     "execution_count": 26,
     "metadata": {},
     "output_type": "execute_result"
    }
   ],
   "source": [
    "## check again to see if value of property tenure is absolute\n",
    "set(df_private['Tenure'])"
   ]
  },
  {
   "cell_type": "code",
   "execution_count": 27,
   "metadata": {
    "ExecuteTime": {
     "end_time": "2020-05-13T11:04:50.567555Z",
     "start_time": "2020-05-13T11:04:50.559578Z"
    }
   },
   "outputs": [],
   "source": [
    "df_private.reset_index(inplace = True)"
   ]
  },
  {
   "cell_type": "code",
   "execution_count": 28,
   "metadata": {
    "ExecuteTime": {
     "end_time": "2020-05-13T11:04:50.627421Z",
     "start_time": "2020-05-13T11:04:50.570545Z"
    }
   },
   "outputs": [],
   "source": [
    "df_private.drop(columns='index',inplace=True)"
   ]
  },
  {
   "cell_type": "code",
   "execution_count": 29,
   "metadata": {
    "ExecuteTime": {
     "end_time": "2020-05-13T11:04:51.085110Z",
     "start_time": "2020-05-13T11:04:50.631383Z"
    }
   },
   "outputs": [],
   "source": [
    "### refine the Postcode to make it compatible with the supplementary data (London Postcode Ref)\n",
    "\n",
    "areacode = []\n",
    "\n",
    "for i in range (0, len(df_private)):\n",
    "    s = df_private['Postcode'][i].split(\" \")[0]\n",
    "    areacode.append(s)\n",
    "    \n",
    "df_private['Areacode'] = areacode\n"
   ]
  },
  {
   "cell_type": "code",
   "execution_count": 30,
   "metadata": {
    "ExecuteTime": {
     "end_time": "2020-05-13T11:04:51.290900Z",
     "start_time": "2020-05-13T11:04:51.086850Z"
    }
   },
   "outputs": [],
   "source": [
    "# regroup attributes within the dataframe df_private\n",
    "df_private = df_private.groupby(['Address', 'Areacode', 'Postcode', 'Bedrooms', 'property_group', 'property_type', \n",
    "                                 'Tenure', 'years_remaining', 'Penthouse', 'Parking', 'Garden',\n",
    "                                 'Balcony','Price', 'Tube', 'Tubedist'])['weight'].agg(np.sum).reset_index()"
   ]
  },
  {
   "cell_type": "code",
   "execution_count": 31,
   "metadata": {
    "ExecuteTime": {
     "end_time": "2020-05-13T11:04:51.308581Z",
     "start_time": "2020-05-13T11:04:51.292545Z"
    }
   },
   "outputs": [
    {
     "name": "stdout",
     "output_type": "stream",
     "text": [
      "<class 'pandas.core.frame.DataFrame'>\n",
      "Int64Index: 1226 entries, 1517 to 5318\n",
      "Data columns (total 9 columns):\n",
      "Unnamed: 0         1226 non-null int64\n",
      "price              1051 non-null float64\n",
      "type               1226 non-null object\n",
      "address            1226 non-null object\n",
      "url                1226 non-null object\n",
      "agent_url          1226 non-null object\n",
      "postcode           1226 non-null object\n",
      "number_bedrooms    1226 non-null object\n",
      "search_date        1226 non-null object\n",
      "dtypes: float64(1), int64(1), object(7)\n",
      "memory usage: 95.8+ KB\n"
     ]
    }
   ],
   "source": [
    "df_commercial.info()"
   ]
  },
  {
   "cell_type": "code",
   "execution_count": 32,
   "metadata": {
    "ExecuteTime": {
     "end_time": "2020-05-13T11:04:51.350292Z",
     "start_time": "2020-05-13T11:04:51.310577Z"
    }
   },
   "outputs": [],
   "source": [
    "#Amend property price to show thousands of £ for easier readibility\n",
    "df_private['Price']=df_private['Price']/1000\n",
    "df_commercial['price']=df_commercial['price']/1000"
   ]
  },
  {
   "cell_type": "code",
   "execution_count": 33,
   "metadata": {
    "ExecuteTime": {
     "end_time": "2020-05-13T11:04:51.376210Z",
     "start_time": "2020-05-13T11:04:51.351912Z"
    }
   },
   "outputs": [],
   "source": [
    "#Drop column so that it doesn't create unnecessary plots\n",
    "df_private = df_private.drop(columns='weight', axis=1)"
   ]
  },
  {
   "cell_type": "code",
   "execution_count": 34,
   "metadata": {
    "ExecuteTime": {
     "end_time": "2020-05-13T11:04:51.829679Z",
     "start_time": "2020-05-13T11:04:51.377845Z"
    }
   },
   "outputs": [
    {
     "name": "stderr",
     "output_type": "stream",
     "text": [
      "C:\\Users\\Tunky\\Anaconda3\\lib\\site-packages\\pandas\\core\\frame.py:3940: SettingWithCopyWarning: \n",
      "A value is trying to be set on a copy of a slice from a DataFrame\n",
      "\n",
      "See the caveats in the documentation: http://pandas.pydata.org/pandas-docs/stable/indexing.html#indexing-view-versus-copy\n",
      "  errors=errors)\n"
     ]
    }
   ],
   "source": [
    "#Create separate datasets for properties based on number of bedrooms and drop bedroom column from them\n",
    "df_private_1bed = df_private[df_private.Bedrooms == 1]\n",
    "df_private_1bed.drop(columns='Bedrooms', axis=1, inplace=True)\n",
    "df_private_2bed = df_private[df_private.Bedrooms == 2]\n",
    "df_private_2bed.drop(columns='Bedrooms', axis=1, inplace=True)\n",
    "df_private_3bed = df_private[df_private.Bedrooms == 3]\n",
    "df_private_3bed.drop(columns='Bedrooms', axis=1, inplace=True)\n",
    "df_private_4bed = df_private[df_private.Bedrooms == 4]\n",
    "df_private_4bed.drop(columns='Bedrooms', axis=1, inplace=True)\n",
    "df_private_5bed = df_private[df_private.Bedrooms == 5]\n",
    "df_private_5bed.drop(columns='Bedrooms', axis=1, inplace=True)\n",
    "df_private_6bed = df_private[df_private.Bedrooms == 6]\n",
    "df_private_6bed.drop(columns='Bedrooms', axis=1, inplace=True)\n",
    "df_private_7bed = df_private[df_private.Bedrooms == 7]\n",
    "df_private_7bed.drop(columns='Bedrooms', axis=1, inplace=True)\n",
    "df_private_8bed = df_private[df_private.Bedrooms == 8]\n",
    "df_private_8bed.drop(columns='Bedrooms', axis=1, inplace=True)\n",
    "df_private_9bed = df_private[df_private.Bedrooms == 9]\n",
    "df_private_9bed.drop(columns='Bedrooms', axis=1, inplace=True)"
   ]
  },
  {
   "cell_type": "code",
   "execution_count": 35,
   "metadata": {
    "ExecuteTime": {
     "end_time": "2020-05-13T11:04:51.884857Z",
     "start_time": "2020-05-13T11:04:51.835662Z"
    }
   },
   "outputs": [
    {
     "data": {
      "text/html": [
       "<div>\n",
       "<style scoped>\n",
       "    .dataframe tbody tr th:only-of-type {\n",
       "        vertical-align: middle;\n",
       "    }\n",
       "\n",
       "    .dataframe tbody tr th {\n",
       "        vertical-align: top;\n",
       "    }\n",
       "\n",
       "    .dataframe thead th {\n",
       "        text-align: right;\n",
       "    }\n",
       "</style>\n",
       "<table border=\"1\" class=\"dataframe\">\n",
       "  <thead>\n",
       "    <tr style=\"text-align: right;\">\n",
       "      <th></th>\n",
       "      <th>Address</th>\n",
       "      <th>Areacode</th>\n",
       "      <th>Postcode</th>\n",
       "      <th>property_group</th>\n",
       "      <th>property_type</th>\n",
       "      <th>Tenure</th>\n",
       "      <th>years_remaining</th>\n",
       "      <th>Penthouse</th>\n",
       "      <th>Parking</th>\n",
       "      <th>Garden</th>\n",
       "      <th>Balcony</th>\n",
       "      <th>Price</th>\n",
       "      <th>Tube</th>\n",
       "      <th>Tubedist</th>\n",
       "    </tr>\n",
       "  </thead>\n",
       "  <tbody>\n",
       "    <tr>\n",
       "      <th>3</th>\n",
       "      <td>#8540, Fladgate House, 4 Circus Road West, Bat...</td>\n",
       "      <td>SW11</td>\n",
       "      <td>SW11 8EU</td>\n",
       "      <td>Flat/Apartment</td>\n",
       "      <td>apartment</td>\n",
       "      <td>NA</td>\n",
       "      <td>NA</td>\n",
       "      <td>False</td>\n",
       "      <td>True</td>\n",
       "      <td>True</td>\n",
       "      <td>False</td>\n",
       "      <td>850.000</td>\n",
       "      <td>Battersea Park</td>\n",
       "      <td>(0.3 mi)</td>\n",
       "    </tr>\n",
       "    <tr>\n",
       "      <th>5</th>\n",
       "      <td>,</td>\n",
       "      <td>HA5</td>\n",
       "      <td>HA5 3RU</td>\n",
       "      <td>House</td>\n",
       "      <td>retirement home</td>\n",
       "      <td>Leasehold</td>\n",
       "      <td>NA</td>\n",
       "      <td>False</td>\n",
       "      <td>True</td>\n",
       "      <td>True</td>\n",
       "      <td>False</td>\n",
       "      <td>205.000</td>\n",
       "      <td>Pinner</td>\n",
       "      <td>(0.7 mi)</td>\n",
       "    </tr>\n",
       "    <tr>\n",
       "      <th>8</th>\n",
       "      <td>1  Bed Apartment - Plot 424 at Eclipse, Blackh...</td>\n",
       "      <td>E17</td>\n",
       "      <td>E17 6HJ</td>\n",
       "      <td>Flat/Apartment</td>\n",
       "      <td>apartment</td>\n",
       "      <td>NA</td>\n",
       "      <td>NA</td>\n",
       "      <td>False</td>\n",
       "      <td>False</td>\n",
       "      <td>False</td>\n",
       "      <td>True</td>\n",
       "      <td>371.000</td>\n",
       "      <td>Blackhorse Road</td>\n",
       "      <td>(0.1 mi)</td>\n",
       "    </tr>\n",
       "    <tr>\n",
       "      <th>9</th>\n",
       "      <td>1 BEDROOM FLAT IN NEED OF MODERNISING CLOSE TO...</td>\n",
       "      <td>HA9</td>\n",
       "      <td>HA9 9SU</td>\n",
       "      <td>Flat/Apartment</td>\n",
       "      <td>flat</td>\n",
       "      <td>Leasehold</td>\n",
       "      <td>NA</td>\n",
       "      <td>False</td>\n",
       "      <td>True</td>\n",
       "      <td>True</td>\n",
       "      <td>False</td>\n",
       "      <td>230.000</td>\n",
       "      <td>Preston Road</td>\n",
       "      <td>(0.5 mi)</td>\n",
       "    </tr>\n",
       "    <tr>\n",
       "      <th>10</th>\n",
       "      <td>1 Bedroom Apartment - Plot 60 at Aspext, Wick ...</td>\n",
       "      <td>E3</td>\n",
       "      <td>E3 2LX</td>\n",
       "      <td>Flat/Apartment</td>\n",
       "      <td>apartment</td>\n",
       "      <td>NA</td>\n",
       "      <td>NA</td>\n",
       "      <td>False</td>\n",
       "      <td>False</td>\n",
       "      <td>False</td>\n",
       "      <td>False</td>\n",
       "      <td>415.000</td>\n",
       "      <td>Hackney Wick</td>\n",
       "      <td>(0.2 mi)</td>\n",
       "    </tr>\n",
       "    <tr>\n",
       "      <th>11</th>\n",
       "      <td>1 Bedroom Apartment at Colindale Gardens, Coli...</td>\n",
       "      <td>NW9</td>\n",
       "      <td>NW9 5HU</td>\n",
       "      <td>Flat/Apartment</td>\n",
       "      <td>apartment</td>\n",
       "      <td>NA</td>\n",
       "      <td>NA</td>\n",
       "      <td>False</td>\n",
       "      <td>False</td>\n",
       "      <td>False</td>\n",
       "      <td>False</td>\n",
       "      <td>364.000</td>\n",
       "      <td>Colindale</td>\n",
       "      <td>(0.0 mi)</td>\n",
       "    </tr>\n",
       "    <tr>\n",
       "      <th>12</th>\n",
       "      <td>1 Bedroom Apartment at Colindale Gardens, Coli...</td>\n",
       "      <td>NW9</td>\n",
       "      <td>NW9 5HU</td>\n",
       "      <td>Flat/Apartment</td>\n",
       "      <td>apartment</td>\n",
       "      <td>NA</td>\n",
       "      <td>NA</td>\n",
       "      <td>False</td>\n",
       "      <td>False</td>\n",
       "      <td>True</td>\n",
       "      <td>False</td>\n",
       "      <td>398.000</td>\n",
       "      <td>Colindale</td>\n",
       "      <td>(0.0 mi)</td>\n",
       "    </tr>\n",
       "    <tr>\n",
       "      <th>13</th>\n",
       "      <td>1 Bedroom Apartment at Colindale Gardens, Coli...</td>\n",
       "      <td>NW9</td>\n",
       "      <td>NW9 5HU</td>\n",
       "      <td>Flat/Apartment</td>\n",
       "      <td>flat</td>\n",
       "      <td>NA</td>\n",
       "      <td>NA</td>\n",
       "      <td>False</td>\n",
       "      <td>False</td>\n",
       "      <td>True</td>\n",
       "      <td>False</td>\n",
       "      <td>415.000</td>\n",
       "      <td>Colindale</td>\n",
       "      <td>(0.0 mi)</td>\n",
       "    </tr>\n",
       "    <tr>\n",
       "      <th>14</th>\n",
       "      <td>1 Bedroom Apartment at One Thames City, Wandsw...</td>\n",
       "      <td>SW8</td>\n",
       "      <td>SW8 2LX</td>\n",
       "      <td>Flat/Apartment</td>\n",
       "      <td>apartment</td>\n",
       "      <td>Leasehold</td>\n",
       "      <td>999 years remaining</td>\n",
       "      <td>False</td>\n",
       "      <td>False</td>\n",
       "      <td>False</td>\n",
       "      <td>False</td>\n",
       "      <td>1163.000</td>\n",
       "      <td>Vauxhall</td>\n",
       "      <td>(0.2 mi)</td>\n",
       "    </tr>\n",
       "    <tr>\n",
       "      <th>15</th>\n",
       "      <td>1 Bedroom Flat FOR SALE! Hendon</td>\n",
       "      <td>NW4</td>\n",
       "      <td>NW4 1PT</td>\n",
       "      <td>Flat/Apartment</td>\n",
       "      <td>flat</td>\n",
       "      <td>Leasehold</td>\n",
       "      <td>NA</td>\n",
       "      <td>False</td>\n",
       "      <td>False</td>\n",
       "      <td>False</td>\n",
       "      <td>False</td>\n",
       "      <td>189.950</td>\n",
       "      <td>Colindale</td>\n",
       "      <td>(0.8 mi)</td>\n",
       "    </tr>\n",
       "    <tr>\n",
       "      <th>24</th>\n",
       "      <td>1 Gaumont Place, London</td>\n",
       "      <td>SW2</td>\n",
       "      <td>SW2 4FX</td>\n",
       "      <td>Flat/Apartment</td>\n",
       "      <td>apartment</td>\n",
       "      <td>Leasehold</td>\n",
       "      <td>996 years remaining</td>\n",
       "      <td>False</td>\n",
       "      <td>False</td>\n",
       "      <td>True</td>\n",
       "      <td>True</td>\n",
       "      <td>420.000</td>\n",
       "      <td>Streatham Hill</td>\n",
       "      <td>(0.1 mi)</td>\n",
       "    </tr>\n",
       "    <tr>\n",
       "      <th>27</th>\n",
       "      <td>1 Lewis Cubitt Square, King's Cross, London, N1C</td>\n",
       "      <td>N1C</td>\n",
       "      <td>N1C 4BP</td>\n",
       "      <td>Flat/Apartment</td>\n",
       "      <td>flat</td>\n",
       "      <td>Leasehold</td>\n",
       "      <td>NA</td>\n",
       "      <td>False</td>\n",
       "      <td>False</td>\n",
       "      <td>True</td>\n",
       "      <td>False</td>\n",
       "      <td>745.000</td>\n",
       "      <td>King's Cross</td>\n",
       "      <td>(0.5 mi)</td>\n",
       "    </tr>\n",
       "    <tr>\n",
       "      <th>30</th>\n",
       "      <td>1 Louise Court, 11 Devonshire Road, Bexleyheat...</td>\n",
       "      <td>DA6</td>\n",
       "      <td>DA6 8DL</td>\n",
       "      <td>Flat/Apartment</td>\n",
       "      <td>flat</td>\n",
       "      <td>Leasehold</td>\n",
       "      <td>92 years remaining</td>\n",
       "      <td>False</td>\n",
       "      <td>True</td>\n",
       "      <td>False</td>\n",
       "      <td>False</td>\n",
       "      <td>225.000</td>\n",
       "      <td>Bexleyheath</td>\n",
       "      <td>(0.4 mi)</td>\n",
       "    </tr>\n",
       "    <tr>\n",
       "      <th>33</th>\n",
       "      <td>1 Merivale Road, Harrow, Greater London, HA1</td>\n",
       "      <td>HA1</td>\n",
       "      <td>HA1 4BJ</td>\n",
       "      <td>Flat/Apartment</td>\n",
       "      <td>flat</td>\n",
       "      <td>NA</td>\n",
       "      <td>NA</td>\n",
       "      <td>False</td>\n",
       "      <td>False</td>\n",
       "      <td>False</td>\n",
       "      <td>False</td>\n",
       "      <td>175.000</td>\n",
       "      <td>West Harrow</td>\n",
       "      <td>(0.3 mi)</td>\n",
       "    </tr>\n",
       "    <tr>\n",
       "      <th>34</th>\n",
       "      <td>1 Millstone Close, London, E15</td>\n",
       "      <td>E15</td>\n",
       "      <td>E15 1PD</td>\n",
       "      <td>Flat/Apartment</td>\n",
       "      <td>apartment</td>\n",
       "      <td>Leasehold</td>\n",
       "      <td>999 years remaining</td>\n",
       "      <td>False</td>\n",
       "      <td>False</td>\n",
       "      <td>False</td>\n",
       "      <td>False</td>\n",
       "      <td>315.000</td>\n",
       "      <td>Maryland</td>\n",
       "      <td>(0.2 mi)</td>\n",
       "    </tr>\n",
       "    <tr>\n",
       "      <th>37</th>\n",
       "      <td>1 Pepys Street, Tower Hill, EC3N</td>\n",
       "      <td>EC3N</td>\n",
       "      <td>EC3N 2NU</td>\n",
       "      <td>Flat/Apartment</td>\n",
       "      <td>apartment</td>\n",
       "      <td>Leasehold</td>\n",
       "      <td>NA</td>\n",
       "      <td>False</td>\n",
       "      <td>False</td>\n",
       "      <td>False</td>\n",
       "      <td>False</td>\n",
       "      <td>535.000</td>\n",
       "      <td>Fenchurch Street</td>\n",
       "      <td>(0.1 mi)</td>\n",
       "    </tr>\n",
       "    <tr>\n",
       "      <th>40</th>\n",
       "      <td>1 Ruddock Close, Edgware, HA8</td>\n",
       "      <td>HA8</td>\n",
       "      <td>HA8 0SG</td>\n",
       "      <td>Flat/Apartment</td>\n",
       "      <td>apartment</td>\n",
       "      <td>Leasehold</td>\n",
       "      <td>979 years remaining</td>\n",
       "      <td>False</td>\n",
       "      <td>True</td>\n",
       "      <td>False</td>\n",
       "      <td>False</td>\n",
       "      <td>400.000</td>\n",
       "      <td>Burnt Oak</td>\n",
       "      <td>(0.4 mi)</td>\n",
       "    </tr>\n",
       "    <tr>\n",
       "      <th>41</th>\n",
       "      <td>1 Seymour Street, Marylebone, London, W1H</td>\n",
       "      <td>W1H</td>\n",
       "      <td>W1H 7JW</td>\n",
       "      <td>Flat/Apartment</td>\n",
       "      <td>flat</td>\n",
       "      <td>Leasehold</td>\n",
       "      <td>NA</td>\n",
       "      <td>False</td>\n",
       "      <td>False</td>\n",
       "      <td>False</td>\n",
       "      <td>False</td>\n",
       "      <td>1450.000</td>\n",
       "      <td>Marble Arch</td>\n",
       "      <td>(0.1 mi)</td>\n",
       "    </tr>\n",
       "    <tr>\n",
       "      <th>46</th>\n",
       "      <td>1 Wynter Street, Battersea, SW11</td>\n",
       "      <td>SW11</td>\n",
       "      <td>SW11 2QH</td>\n",
       "      <td>Flat/Apartment</td>\n",
       "      <td>flat</td>\n",
       "      <td>Leasehold</td>\n",
       "      <td>84 years remaining</td>\n",
       "      <td>False</td>\n",
       "      <td>False</td>\n",
       "      <td>False</td>\n",
       "      <td>False</td>\n",
       "      <td>290.000</td>\n",
       "      <td>Wandsworth Town</td>\n",
       "      <td>(0.4 mi)</td>\n",
       "    </tr>\n",
       "    <tr>\n",
       "      <th>47</th>\n",
       "      <td>1 bedroom apartment at Arro, Beaconsfield Road...</td>\n",
       "      <td>UB1</td>\n",
       "      <td>UB1 1BZ</td>\n",
       "      <td>Flat/Apartment</td>\n",
       "      <td>flat</td>\n",
       "      <td>NA</td>\n",
       "      <td>NA</td>\n",
       "      <td>False</td>\n",
       "      <td>False</td>\n",
       "      <td>False</td>\n",
       "      <td>True</td>\n",
       "      <td>76.000</td>\n",
       "      <td>Southall</td>\n",
       "      <td>(0.3 mi)</td>\n",
       "    </tr>\n",
       "    <tr>\n",
       "      <th>48</th>\n",
       "      <td>1 bedroom apartment at Arro, Beaconsfield Road...</td>\n",
       "      <td>UB1</td>\n",
       "      <td>UB1 1BZ</td>\n",
       "      <td>Flat/Apartment</td>\n",
       "      <td>flat</td>\n",
       "      <td>NA</td>\n",
       "      <td>NA</td>\n",
       "      <td>False</td>\n",
       "      <td>False</td>\n",
       "      <td>False</td>\n",
       "      <td>True</td>\n",
       "      <td>80.000</td>\n",
       "      <td>Southall</td>\n",
       "      <td>(0.3 mi)</td>\n",
       "    </tr>\n",
       "    <tr>\n",
       "      <th>49</th>\n",
       "      <td>1 bedroom apartment at Arro, Beaconsfield Road...</td>\n",
       "      <td>UB1</td>\n",
       "      <td>UB1 1BZ</td>\n",
       "      <td>Flat/Apartment</td>\n",
       "      <td>flat</td>\n",
       "      <td>NA</td>\n",
       "      <td>NA</td>\n",
       "      <td>False</td>\n",
       "      <td>False</td>\n",
       "      <td>False</td>\n",
       "      <td>True</td>\n",
       "      <td>320.000</td>\n",
       "      <td>Southall</td>\n",
       "      <td>(0.3 mi)</td>\n",
       "    </tr>\n",
       "    <tr>\n",
       "      <th>50</th>\n",
       "      <td>1, 65 Kidbrooke Park Road, Blackheath</td>\n",
       "      <td>SE3</td>\n",
       "      <td>SE3 0EE</td>\n",
       "      <td>Flat/Apartment</td>\n",
       "      <td>flat</td>\n",
       "      <td>Leasehold</td>\n",
       "      <td>77 years remaining</td>\n",
       "      <td>False</td>\n",
       "      <td>True</td>\n",
       "      <td>False</td>\n",
       "      <td>False</td>\n",
       "      <td>300.000</td>\n",
       "      <td>Kidbrooke</td>\n",
       "      <td>(0.6 mi)</td>\n",
       "    </tr>\n",
       "    <tr>\n",
       "      <th>53</th>\n",
       "      <td>1-Bed Apt at The West Works, Merrick Road,\\nSo...</td>\n",
       "      <td>UB2</td>\n",
       "      <td>UB2 4AU</td>\n",
       "      <td>Flat/Apartment</td>\n",
       "      <td>apartment</td>\n",
       "      <td>Leasehold</td>\n",
       "      <td>NA</td>\n",
       "      <td>False</td>\n",
       "      <td>False</td>\n",
       "      <td>False</td>\n",
       "      <td>True</td>\n",
       "      <td>311.000</td>\n",
       "      <td>Southall</td>\n",
       "      <td>(0.1 mi)</td>\n",
       "    </tr>\n",
       "    <tr>\n",
       "      <th>54</th>\n",
       "      <td>1-Bed Apt at The West Works, Merrick Road,\\nSo...</td>\n",
       "      <td>UB2</td>\n",
       "      <td>UB2 4AU</td>\n",
       "      <td>Flat/Apartment</td>\n",
       "      <td>apartment</td>\n",
       "      <td>Leasehold</td>\n",
       "      <td>NA</td>\n",
       "      <td>False</td>\n",
       "      <td>False</td>\n",
       "      <td>True</td>\n",
       "      <td>True</td>\n",
       "      <td>317.000</td>\n",
       "      <td>Southall</td>\n",
       "      <td>(0.1 mi)</td>\n",
       "    </tr>\n",
       "    <tr>\n",
       "      <th>55</th>\n",
       "      <td>1-bedroom Freehold Starter Home</td>\n",
       "      <td>KT3</td>\n",
       "      <td>KT3 3QX</td>\n",
       "      <td>House</td>\n",
       "      <td>terraced house</td>\n",
       "      <td>Freehold</td>\n",
       "      <td>NA</td>\n",
       "      <td>False</td>\n",
       "      <td>False</td>\n",
       "      <td>False</td>\n",
       "      <td>False</td>\n",
       "      <td>299.950</td>\n",
       "      <td>Berrylands</td>\n",
       "      <td>(0.3 mi)</td>\n",
       "    </tr>\n",
       "    <tr>\n",
       "      <th>56</th>\n",
       "      <td>1.0.3 Building 10 - Royal Arsenal Riverside, P...</td>\n",
       "      <td>SE18</td>\n",
       "      <td>SE18 6FB</td>\n",
       "      <td>Flat/Apartment</td>\n",
       "      <td>flat</td>\n",
       "      <td>Leasehold</td>\n",
       "      <td>NA</td>\n",
       "      <td>False</td>\n",
       "      <td>False</td>\n",
       "      <td>False</td>\n",
       "      <td>True</td>\n",
       "      <td>490.000</td>\n",
       "      <td>Woolwich Arsenal</td>\n",
       "      <td>(0.2 mi)</td>\n",
       "    </tr>\n",
       "    <tr>\n",
       "      <th>60</th>\n",
       "      <td>10 College Road, Harrow</td>\n",
       "      <td>HA1</td>\n",
       "      <td>HA1 1AY</td>\n",
       "      <td>Flat/Apartment</td>\n",
       "      <td>flat</td>\n",
       "      <td>Leasehold</td>\n",
       "      <td>NA</td>\n",
       "      <td>False</td>\n",
       "      <td>False</td>\n",
       "      <td>False</td>\n",
       "      <td>False</td>\n",
       "      <td>240.000</td>\n",
       "      <td>Harrow-on-the-Hill</td>\n",
       "      <td>(0.1 mi)</td>\n",
       "    </tr>\n",
       "    <tr>\n",
       "      <th>63</th>\n",
       "      <td>10 Sara Court, 38 Abercorn Place, St John's Wo...</td>\n",
       "      <td>NW8</td>\n",
       "      <td>NW8 9XP</td>\n",
       "      <td>Flat/Apartment</td>\n",
       "      <td>flat</td>\n",
       "      <td>NA</td>\n",
       "      <td>NA</td>\n",
       "      <td>False</td>\n",
       "      <td>False</td>\n",
       "      <td>False</td>\n",
       "      <td>False</td>\n",
       "      <td>245.000</td>\n",
       "      <td>St. John's Wood</td>\n",
       "      <td>(0.3 mi)</td>\n",
       "    </tr>\n",
       "    <tr>\n",
       "      <th>69</th>\n",
       "      <td>101-103 Barking Road, London, E16</td>\n",
       "      <td>E16</td>\n",
       "      <td>E16 4HQ</td>\n",
       "      <td>Flat/Apartment</td>\n",
       "      <td>apartment</td>\n",
       "      <td>Leasehold</td>\n",
       "      <td>123 years remaining</td>\n",
       "      <td>False</td>\n",
       "      <td>False</td>\n",
       "      <td>False</td>\n",
       "      <td>False</td>\n",
       "      <td>280.000</td>\n",
       "      <td>Canning Town</td>\n",
       "      <td>(0.3 mi)</td>\n",
       "    </tr>\n",
       "    <tr>\n",
       "      <th>...</th>\n",
       "      <td>...</td>\n",
       "      <td>...</td>\n",
       "      <td>...</td>\n",
       "      <td>...</td>\n",
       "      <td>...</td>\n",
       "      <td>...</td>\n",
       "      <td>...</td>\n",
       "      <td>...</td>\n",
       "      <td>...</td>\n",
       "      <td>...</td>\n",
       "      <td>...</td>\n",
       "      <td>...</td>\n",
       "      <td>...</td>\n",
       "      <td>...</td>\n",
       "    </tr>\n",
       "    <tr>\n",
       "      <th>30444</th>\n",
       "      <td>Wycliffe Road, Wimbledon</td>\n",
       "      <td>SW19</td>\n",
       "      <td>SW19 1ER</td>\n",
       "      <td>Flat/Apartment</td>\n",
       "      <td>duplex apartment</td>\n",
       "      <td>NA</td>\n",
       "      <td>NA</td>\n",
       "      <td>False</td>\n",
       "      <td>False</td>\n",
       "      <td>True</td>\n",
       "      <td>False</td>\n",
       "      <td>475.000</td>\n",
       "      <td>South Wimbledon</td>\n",
       "      <td>(0.3 mi)</td>\n",
       "    </tr>\n",
       "    <tr>\n",
       "      <th>30453</th>\n",
       "      <td>Wyfold Road, Fulham, London, SW6</td>\n",
       "      <td>SW6</td>\n",
       "      <td>SW6 6SJ</td>\n",
       "      <td>Flat/Apartment</td>\n",
       "      <td>flat</td>\n",
       "      <td>Leasehold</td>\n",
       "      <td>NA</td>\n",
       "      <td>False</td>\n",
       "      <td>False</td>\n",
       "      <td>False</td>\n",
       "      <td>False</td>\n",
       "      <td>495.000</td>\n",
       "      <td>Parsons Green</td>\n",
       "      <td>(0.5 mi)</td>\n",
       "    </tr>\n",
       "    <tr>\n",
       "      <th>30475</th>\n",
       "      <td>Wynne Road, Brixton, London SW9 0BB</td>\n",
       "      <td>SW9</td>\n",
       "      <td>SW9 0BB</td>\n",
       "      <td>Flat/Apartment</td>\n",
       "      <td>flat</td>\n",
       "      <td>Leasehold</td>\n",
       "      <td>NA</td>\n",
       "      <td>False</td>\n",
       "      <td>False</td>\n",
       "      <td>False</td>\n",
       "      <td>False</td>\n",
       "      <td>345.000</td>\n",
       "      <td>Stockwell</td>\n",
       "      <td>(0.4 mi)</td>\n",
       "    </tr>\n",
       "    <tr>\n",
       "      <th>30480</th>\n",
       "      <td>Yarmouth Crescent, London, N17</td>\n",
       "      <td>N17</td>\n",
       "      <td>N17 9PQ</td>\n",
       "      <td>Flat/Apartment</td>\n",
       "      <td>flat</td>\n",
       "      <td>Leasehold</td>\n",
       "      <td>NA</td>\n",
       "      <td>False</td>\n",
       "      <td>False</td>\n",
       "      <td>False</td>\n",
       "      <td>True</td>\n",
       "      <td>350.000</td>\n",
       "      <td>Tottenham Hale</td>\n",
       "      <td>(0.4 mi)</td>\n",
       "    </tr>\n",
       "    <tr>\n",
       "      <th>30481</th>\n",
       "      <td>Yarn Court at New Mill Quarter, Hackbridge Roa...</td>\n",
       "      <td>SM6</td>\n",
       "      <td>SM6 7AX</td>\n",
       "      <td>Flat/Apartment</td>\n",
       "      <td>apartment</td>\n",
       "      <td>NA</td>\n",
       "      <td>NA</td>\n",
       "      <td>False</td>\n",
       "      <td>False</td>\n",
       "      <td>False</td>\n",
       "      <td>False</td>\n",
       "      <td>309.995</td>\n",
       "      <td>Hackbridge</td>\n",
       "      <td>(0.2 mi)</td>\n",
       "    </tr>\n",
       "    <tr>\n",
       "      <th>30482</th>\n",
       "      <td>Yarn Court at New Mill Quarter, Hackbridge Roa...</td>\n",
       "      <td>SM6</td>\n",
       "      <td>SM6 7AX</td>\n",
       "      <td>Flat/Apartment</td>\n",
       "      <td>apartment</td>\n",
       "      <td>NA</td>\n",
       "      <td>NA</td>\n",
       "      <td>False</td>\n",
       "      <td>False</td>\n",
       "      <td>False</td>\n",
       "      <td>True</td>\n",
       "      <td>311.995</td>\n",
       "      <td>Hackbridge</td>\n",
       "      <td>(0.2 mi)</td>\n",
       "    </tr>\n",
       "    <tr>\n",
       "      <th>30483</th>\n",
       "      <td>Yarn Court at New Mill Quarter, Hackbridge Roa...</td>\n",
       "      <td>SM6</td>\n",
       "      <td>SM6 7AX</td>\n",
       "      <td>Flat/Apartment</td>\n",
       "      <td>apartment</td>\n",
       "      <td>NA</td>\n",
       "      <td>NA</td>\n",
       "      <td>False</td>\n",
       "      <td>False</td>\n",
       "      <td>False</td>\n",
       "      <td>True</td>\n",
       "      <td>313.995</td>\n",
       "      <td>Hackbridge</td>\n",
       "      <td>(0.2 mi)</td>\n",
       "    </tr>\n",
       "    <tr>\n",
       "      <th>30484</th>\n",
       "      <td>Yarn Court at New Mill Quarter, Hackbridge Roa...</td>\n",
       "      <td>SM6</td>\n",
       "      <td>SM6 7AX</td>\n",
       "      <td>Flat/Apartment</td>\n",
       "      <td>apartment</td>\n",
       "      <td>NA</td>\n",
       "      <td>NA</td>\n",
       "      <td>False</td>\n",
       "      <td>False</td>\n",
       "      <td>False</td>\n",
       "      <td>True</td>\n",
       "      <td>315.995</td>\n",
       "      <td>Hackbridge</td>\n",
       "      <td>(0.2 mi)</td>\n",
       "    </tr>\n",
       "    <tr>\n",
       "      <th>30485</th>\n",
       "      <td>Yarn Court at New Mill Quarter, Hackbridge Roa...</td>\n",
       "      <td>SM6</td>\n",
       "      <td>SM6 7AX</td>\n",
       "      <td>Flat/Apartment</td>\n",
       "      <td>apartment</td>\n",
       "      <td>NA</td>\n",
       "      <td>NA</td>\n",
       "      <td>False</td>\n",
       "      <td>False</td>\n",
       "      <td>False</td>\n",
       "      <td>True</td>\n",
       "      <td>319.995</td>\n",
       "      <td>Hackbridge</td>\n",
       "      <td>(0.2 mi)</td>\n",
       "    </tr>\n",
       "    <tr>\n",
       "      <th>30506</th>\n",
       "      <td>Yew Avenue, Yiewsley, West Drayton</td>\n",
       "      <td>UB7</td>\n",
       "      <td>UB7 8PA</td>\n",
       "      <td>House</td>\n",
       "      <td>terraced house</td>\n",
       "      <td>NA</td>\n",
       "      <td>NA</td>\n",
       "      <td>False</td>\n",
       "      <td>True</td>\n",
       "      <td>True</td>\n",
       "      <td>False</td>\n",
       "      <td>269.500</td>\n",
       "      <td>West Drayton</td>\n",
       "      <td>(0.4 mi)</td>\n",
       "    </tr>\n",
       "    <tr>\n",
       "      <th>30520</th>\n",
       "      <td>Yonge Park, London, UK, N4 3NT</td>\n",
       "      <td>N4</td>\n",
       "      <td>N4 3NT</td>\n",
       "      <td>Flat/Apartment</td>\n",
       "      <td>flat</td>\n",
       "      <td>NA</td>\n",
       "      <td>NA</td>\n",
       "      <td>False</td>\n",
       "      <td>False</td>\n",
       "      <td>False</td>\n",
       "      <td>False</td>\n",
       "      <td>375.000</td>\n",
       "      <td>Arsenal</td>\n",
       "      <td>(0.3 mi)</td>\n",
       "    </tr>\n",
       "    <tr>\n",
       "      <th>30523</th>\n",
       "      <td>York Court, 11 Ross Road, Wallington, SM6</td>\n",
       "      <td>SM6</td>\n",
       "      <td>SM6 8QN</td>\n",
       "      <td>Flat/Apartment</td>\n",
       "      <td>apartment</td>\n",
       "      <td>Leasehold</td>\n",
       "      <td>NA</td>\n",
       "      <td>False</td>\n",
       "      <td>False</td>\n",
       "      <td>False</td>\n",
       "      <td>False</td>\n",
       "      <td>225.000</td>\n",
       "      <td>Wallington</td>\n",
       "      <td>(0.2 mi)</td>\n",
       "    </tr>\n",
       "    <tr>\n",
       "      <th>30530</th>\n",
       "      <td>York House, Turks Row, London, SW3</td>\n",
       "      <td>SW3</td>\n",
       "      <td>SW3 4TH</td>\n",
       "      <td>Flat/Apartment</td>\n",
       "      <td>flat</td>\n",
       "      <td>Share of Freehold</td>\n",
       "      <td>NA</td>\n",
       "      <td>False</td>\n",
       "      <td>False</td>\n",
       "      <td>False</td>\n",
       "      <td>False</td>\n",
       "      <td>885.000</td>\n",
       "      <td>Sloane Square</td>\n",
       "      <td>(0.2 mi)</td>\n",
       "    </tr>\n",
       "    <tr>\n",
       "      <th>30532</th>\n",
       "      <td>York Parade, Brentford</td>\n",
       "      <td>TW8</td>\n",
       "      <td>TW8 9AA</td>\n",
       "      <td>Flat/Apartment</td>\n",
       "      <td>flat</td>\n",
       "      <td>Leasehold</td>\n",
       "      <td>NA</td>\n",
       "      <td>False</td>\n",
       "      <td>False</td>\n",
       "      <td>False</td>\n",
       "      <td>False</td>\n",
       "      <td>130.000</td>\n",
       "      <td>Brentford</td>\n",
       "      <td>(0.3 mi)</td>\n",
       "    </tr>\n",
       "    <tr>\n",
       "      <th>30533</th>\n",
       "      <td>York Place Mansions, 117 Baker Street, Marylebone</td>\n",
       "      <td>W1U</td>\n",
       "      <td>W1U 6RX</td>\n",
       "      <td>Flat/Apartment</td>\n",
       "      <td>apartment</td>\n",
       "      <td>NA</td>\n",
       "      <td>NA</td>\n",
       "      <td>False</td>\n",
       "      <td>False</td>\n",
       "      <td>False</td>\n",
       "      <td>False</td>\n",
       "      <td>900.000</td>\n",
       "      <td>Baker Street</td>\n",
       "      <td>(0.1 mi)</td>\n",
       "    </tr>\n",
       "    <tr>\n",
       "      <th>30534</th>\n",
       "      <td>York Place Mansions, 117 Baker Street, Maryleb...</td>\n",
       "      <td>W1U</td>\n",
       "      <td>W1U 6RX</td>\n",
       "      <td>Flat/Apartment</td>\n",
       "      <td>apartment</td>\n",
       "      <td>Leasehold</td>\n",
       "      <td>NA</td>\n",
       "      <td>False</td>\n",
       "      <td>True</td>\n",
       "      <td>False</td>\n",
       "      <td>False</td>\n",
       "      <td>900.000</td>\n",
       "      <td>Baker Street</td>\n",
       "      <td>(0.1 mi)</td>\n",
       "    </tr>\n",
       "    <tr>\n",
       "      <th>30536</th>\n",
       "      <td>York Rise, Dartmouth Park</td>\n",
       "      <td>NW5</td>\n",
       "      <td>NW5 1SR</td>\n",
       "      <td>Flat/Apartment</td>\n",
       "      <td>flat</td>\n",
       "      <td>Share of Freehold</td>\n",
       "      <td>NA</td>\n",
       "      <td>False</td>\n",
       "      <td>False</td>\n",
       "      <td>False</td>\n",
       "      <td>False</td>\n",
       "      <td>399.950</td>\n",
       "      <td>Tufnell Park</td>\n",
       "      <td>(0.2 mi)</td>\n",
       "    </tr>\n",
       "    <tr>\n",
       "      <th>30543</th>\n",
       "      <td>York Road, Clapham Junction, Clapham Junction,...</td>\n",
       "      <td>SW11</td>\n",
       "      <td>SW11 3SL</td>\n",
       "      <td>Flat/Apartment</td>\n",
       "      <td>flat</td>\n",
       "      <td>NA</td>\n",
       "      <td>NA</td>\n",
       "      <td>False</td>\n",
       "      <td>False</td>\n",
       "      <td>False</td>\n",
       "      <td>False</td>\n",
       "      <td>525.000</td>\n",
       "      <td>Imperial Wharf</td>\n",
       "      <td>(0.5 mi)</td>\n",
       "    </tr>\n",
       "    <tr>\n",
       "      <th>30548</th>\n",
       "      <td>York Road, W3</td>\n",
       "      <td>W3</td>\n",
       "      <td>W3 6TP</td>\n",
       "      <td>Flat/Apartment</td>\n",
       "      <td>flat</td>\n",
       "      <td>Leasehold</td>\n",
       "      <td>NA</td>\n",
       "      <td>False</td>\n",
       "      <td>False</td>\n",
       "      <td>False</td>\n",
       "      <td>True</td>\n",
       "      <td>355.000</td>\n",
       "      <td>Acton Main Line</td>\n",
       "      <td>(0.2 mi)</td>\n",
       "    </tr>\n",
       "    <tr>\n",
       "      <th>30550</th>\n",
       "      <td>York Street, Twickenham</td>\n",
       "      <td>TW1</td>\n",
       "      <td>TW1 3JZ</td>\n",
       "      <td>Flat/Apartment</td>\n",
       "      <td>apartment</td>\n",
       "      <td>Leasehold</td>\n",
       "      <td>NA</td>\n",
       "      <td>False</td>\n",
       "      <td>False</td>\n",
       "      <td>False</td>\n",
       "      <td>False</td>\n",
       "      <td>450.000</td>\n",
       "      <td>Twickenham</td>\n",
       "      <td>(0.2 mi)</td>\n",
       "    </tr>\n",
       "    <tr>\n",
       "      <th>30554</th>\n",
       "      <td>York Way Estate, Holloway, N7</td>\n",
       "      <td>N7</td>\n",
       "      <td>N7 9QB</td>\n",
       "      <td>Flat/Apartment</td>\n",
       "      <td>flat</td>\n",
       "      <td>Leasehold</td>\n",
       "      <td>NA</td>\n",
       "      <td>False</td>\n",
       "      <td>False</td>\n",
       "      <td>False</td>\n",
       "      <td>False</td>\n",
       "      <td>325.000</td>\n",
       "      <td>Caledonian Road</td>\n",
       "      <td>(0.4 mi)</td>\n",
       "    </tr>\n",
       "    <tr>\n",
       "      <th>30555</th>\n",
       "      <td>York Way, London</td>\n",
       "      <td>N7</td>\n",
       "      <td>N7 9QF</td>\n",
       "      <td>Flat/Apartment</td>\n",
       "      <td>apartment</td>\n",
       "      <td>Leasehold</td>\n",
       "      <td>NA</td>\n",
       "      <td>False</td>\n",
       "      <td>False</td>\n",
       "      <td>False</td>\n",
       "      <td>True</td>\n",
       "      <td>440.000</td>\n",
       "      <td>Caledonian Road</td>\n",
       "      <td>(0.4 mi)</td>\n",
       "    </tr>\n",
       "    <tr>\n",
       "      <th>30565</th>\n",
       "      <td>Youngs Road, Ilford, Essex, IG2</td>\n",
       "      <td>IG2</td>\n",
       "      <td>IG2 7LF</td>\n",
       "      <td>Flat/Apartment</td>\n",
       "      <td>flat</td>\n",
       "      <td>Leasehold</td>\n",
       "      <td>NA</td>\n",
       "      <td>False</td>\n",
       "      <td>False</td>\n",
       "      <td>False</td>\n",
       "      <td>False</td>\n",
       "      <td>240.000</td>\n",
       "      <td>Newbury Park</td>\n",
       "      <td>(0.2 mi)</td>\n",
       "    </tr>\n",
       "    <tr>\n",
       "      <th>30570</th>\n",
       "      <td>Yvon House, Alexandra Avenue, London, SW11</td>\n",
       "      <td>SW11</td>\n",
       "      <td>SW11 4GA</td>\n",
       "      <td>Flat/Apartment</td>\n",
       "      <td>apartment</td>\n",
       "      <td>Leasehold</td>\n",
       "      <td>NA</td>\n",
       "      <td>False</td>\n",
       "      <td>True</td>\n",
       "      <td>False</td>\n",
       "      <td>True</td>\n",
       "      <td>525.000</td>\n",
       "      <td>Queenstown Road (Battersea)</td>\n",
       "      <td>(0.4 mi)</td>\n",
       "    </tr>\n",
       "    <tr>\n",
       "      <th>30573</th>\n",
       "      <td>Zenith Apartments, Commercial Road, Limehouse ...</td>\n",
       "      <td>E14</td>\n",
       "      <td>E14 7LB</td>\n",
       "      <td>Flat/Apartment</td>\n",
       "      <td>flat</td>\n",
       "      <td>NA</td>\n",
       "      <td>NA</td>\n",
       "      <td>False</td>\n",
       "      <td>False</td>\n",
       "      <td>False</td>\n",
       "      <td>True</td>\n",
       "      <td>425.995</td>\n",
       "      <td>Limehouse</td>\n",
       "      <td>(0.1 mi)</td>\n",
       "    </tr>\n",
       "    <tr>\n",
       "      <th>30583</th>\n",
       "      <td>Zodiac Close, Edgware, HA8 5FF</td>\n",
       "      <td>HA8</td>\n",
       "      <td>HA8 5FF</td>\n",
       "      <td>Flat/Apartment</td>\n",
       "      <td>flat</td>\n",
       "      <td>Leasehold</td>\n",
       "      <td>995 years remaining</td>\n",
       "      <td>False</td>\n",
       "      <td>False</td>\n",
       "      <td>True</td>\n",
       "      <td>True</td>\n",
       "      <td>315.000</td>\n",
       "      <td>Edgware</td>\n",
       "      <td>(0.5 mi)</td>\n",
       "    </tr>\n",
       "    <tr>\n",
       "      <th>30584</th>\n",
       "      <td>Zodiac Close, Edgware, HA8 5FF</td>\n",
       "      <td>HA8</td>\n",
       "      <td>HA8 5FF</td>\n",
       "      <td>Flat/Apartment</td>\n",
       "      <td>flat</td>\n",
       "      <td>Leasehold</td>\n",
       "      <td>NA</td>\n",
       "      <td>False</td>\n",
       "      <td>False</td>\n",
       "      <td>True</td>\n",
       "      <td>False</td>\n",
       "      <td>285.000</td>\n",
       "      <td>Edgware</td>\n",
       "      <td>(0.5 mi)</td>\n",
       "    </tr>\n",
       "    <tr>\n",
       "      <th>30587</th>\n",
       "      <td>de Beauvoir Place, Tottenham Road, London, N1</td>\n",
       "      <td>N1</td>\n",
       "      <td>N1 4EP</td>\n",
       "      <td>House</td>\n",
       "      <td>retirement home</td>\n",
       "      <td>Leasehold</td>\n",
       "      <td>NA</td>\n",
       "      <td>False</td>\n",
       "      <td>False</td>\n",
       "      <td>True</td>\n",
       "      <td>False</td>\n",
       "      <td>209.950</td>\n",
       "      <td>Dalston Junction</td>\n",
       "      <td>(0.1 mi)</td>\n",
       "    </tr>\n",
       "    <tr>\n",
       "      <th>30588</th>\n",
       "      <td>de Beauvoir Place, Tottenham Road, London, N1</td>\n",
       "      <td>N1</td>\n",
       "      <td>N1 4EP</td>\n",
       "      <td>House</td>\n",
       "      <td>retirement home</td>\n",
       "      <td>NA</td>\n",
       "      <td>NA</td>\n",
       "      <td>False</td>\n",
       "      <td>False</td>\n",
       "      <td>False</td>\n",
       "      <td>False</td>\n",
       "      <td>239.950</td>\n",
       "      <td>Dalston Junction</td>\n",
       "      <td>(0.1 mi)</td>\n",
       "    </tr>\n",
       "    <tr>\n",
       "      <th>30591</th>\n",
       "      <td>rainsborough avenue, london, SE8 5RU</td>\n",
       "      <td>SE8</td>\n",
       "      <td>SE8 5RU</td>\n",
       "      <td>Flat/Apartment</td>\n",
       "      <td>flat</td>\n",
       "      <td>Leasehold</td>\n",
       "      <td>93 years remaining</td>\n",
       "      <td>False</td>\n",
       "      <td>False</td>\n",
       "      <td>True</td>\n",
       "      <td>True</td>\n",
       "      <td>275.000</td>\n",
       "      <td>Surrey Quays</td>\n",
       "      <td>(0.5 mi)</td>\n",
       "    </tr>\n",
       "  </tbody>\n",
       "</table>\n",
       "<p>6172 rows × 14 columns</p>\n",
       "</div>"
      ],
      "text/plain": [
       "                                                 Address Areacode  Postcode  \\\n",
       "3      #8540, Fladgate House, 4 Circus Road West, Bat...     SW11  SW11 8EU   \n",
       "5                                                      ,      HA5  HA5 3RU    \n",
       "8      1  Bed Apartment - Plot 424 at Eclipse, Blackh...      E17  E17 6HJ    \n",
       "9      1 BEDROOM FLAT IN NEED OF MODERNISING CLOSE TO...      HA9  HA9 9SU    \n",
       "10     1 Bedroom Apartment - Plot 60 at Aspext, Wick ...       E3   E3 2LX    \n",
       "11     1 Bedroom Apartment at Colindale Gardens, Coli...      NW9  NW9 5HU    \n",
       "12     1 Bedroom Apartment at Colindale Gardens, Coli...      NW9  NW9 5HU    \n",
       "13     1 Bedroom Apartment at Colindale Gardens, Coli...      NW9  NW9 5HU    \n",
       "14     1 Bedroom Apartment at One Thames City, Wandsw...      SW8  SW8 2LX    \n",
       "15                       1 Bedroom Flat FOR SALE! Hendon      NW4  NW4 1PT    \n",
       "24                               1 Gaumont Place, London      SW2  SW2 4FX    \n",
       "27      1 Lewis Cubitt Square, King's Cross, London, N1C      N1C  N1C 4BP    \n",
       "30     1 Louise Court, 11 Devonshire Road, Bexleyheat...      DA6  DA6 8DL    \n",
       "33          1 Merivale Road, Harrow, Greater London, HA1      HA1  HA1 4BJ    \n",
       "34                        1 Millstone Close, London, E15      E15  E15 1PD    \n",
       "37                      1 Pepys Street, Tower Hill, EC3N     EC3N  EC3N 2NU   \n",
       "40                         1 Ruddock Close, Edgware, HA8      HA8  HA8 0SG    \n",
       "41             1 Seymour Street, Marylebone, London, W1H      W1H  W1H 7JW    \n",
       "46                      1 Wynter Street, Battersea, SW11     SW11  SW11 2QH   \n",
       "47     1 bedroom apartment at Arro, Beaconsfield Road...      UB1  UB1 1BZ    \n",
       "48     1 bedroom apartment at Arro, Beaconsfield Road...      UB1  UB1 1BZ    \n",
       "49     1 bedroom apartment at Arro, Beaconsfield Road...      UB1  UB1 1BZ    \n",
       "50                 1, 65 Kidbrooke Park Road, Blackheath      SE3  SE3 0EE    \n",
       "53     1-Bed Apt at The West Works, Merrick Road,\\nSo...      UB2  UB2 4AU    \n",
       "54     1-Bed Apt at The West Works, Merrick Road,\\nSo...      UB2  UB2 4AU    \n",
       "55                       1-bedroom Freehold Starter Home      KT3  KT3 3QX    \n",
       "56     1.0.3 Building 10 - Royal Arsenal Riverside, P...     SE18  SE18 6FB   \n",
       "60                               10 College Road, Harrow      HA1  HA1 1AY    \n",
       "63     10 Sara Court, 38 Abercorn Place, St John's Wo...      NW8  NW8 9XP    \n",
       "69                     101-103 Barking Road, London, E16      E16  E16 4HQ    \n",
       "...                                                  ...      ...       ...   \n",
       "30444                           Wycliffe Road, Wimbledon     SW19  SW19 1ER   \n",
       "30453                   Wyfold Road, Fulham, London, SW6      SW6  SW6 6SJ    \n",
       "30475                Wynne Road, Brixton, London SW9 0BB      SW9  SW9 0BB    \n",
       "30480                     Yarmouth Crescent, London, N17      N17  N17 9PQ    \n",
       "30481  Yarn Court at New Mill Quarter, Hackbridge Roa...      SM6  SM6 7AX    \n",
       "30482  Yarn Court at New Mill Quarter, Hackbridge Roa...      SM6  SM6 7AX    \n",
       "30483  Yarn Court at New Mill Quarter, Hackbridge Roa...      SM6  SM6 7AX    \n",
       "30484  Yarn Court at New Mill Quarter, Hackbridge Roa...      SM6  SM6 7AX    \n",
       "30485  Yarn Court at New Mill Quarter, Hackbridge Roa...      SM6  SM6 7AX    \n",
       "30506                 Yew Avenue, Yiewsley, West Drayton      UB7  UB7 8PA    \n",
       "30520                     Yonge Park, London, UK, N4 3NT       N4   N4 3NT    \n",
       "30523          York Court, 11 Ross Road, Wallington, SM6      SM6  SM6 8QN    \n",
       "30530                 York House, Turks Row, London, SW3      SW3  SW3 4TH    \n",
       "30532                             York Parade, Brentford      TW8  TW8 9AA    \n",
       "30533  York Place Mansions, 117 Baker Street, Marylebone      W1U  W1U 6RX    \n",
       "30534  York Place Mansions, 117 Baker Street, Maryleb...      W1U  W1U 6RX    \n",
       "30536                          York Rise, Dartmouth Park      NW5  NW5 1SR    \n",
       "30543  York Road, Clapham Junction, Clapham Junction,...     SW11  SW11 3SL   \n",
       "30548                                      York Road, W3       W3   W3 6TP    \n",
       "30550                            York Street, Twickenham      TW1  TW1 3JZ    \n",
       "30554                      York Way Estate, Holloway, N7       N7   N7 9QB    \n",
       "30555                                   York Way, London       N7   N7 9QF    \n",
       "30565                    Youngs Road, Ilford, Essex, IG2      IG2  IG2 7LF    \n",
       "30570         Yvon House, Alexandra Avenue, London, SW11     SW11  SW11 4GA   \n",
       "30573  Zenith Apartments, Commercial Road, Limehouse ...      E14  E14 7LB    \n",
       "30583                     Zodiac Close, Edgware, HA8 5FF      HA8  HA8 5FF    \n",
       "30584                     Zodiac Close, Edgware, HA8 5FF      HA8  HA8 5FF    \n",
       "30587      de Beauvoir Place, Tottenham Road, London, N1       N1   N1 4EP    \n",
       "30588      de Beauvoir Place, Tottenham Road, London, N1       N1   N1 4EP    \n",
       "30591               rainsborough avenue, london, SE8 5RU      SE8  SE8 5RU    \n",
       "\n",
       "       property_group     property_type             Tenure  \\\n",
       "3      Flat/Apartment         apartment                 NA   \n",
       "5               House   retirement home          Leasehold   \n",
       "8      Flat/Apartment         apartment                 NA   \n",
       "9      Flat/Apartment              flat          Leasehold   \n",
       "10     Flat/Apartment         apartment                 NA   \n",
       "11     Flat/Apartment         apartment                 NA   \n",
       "12     Flat/Apartment         apartment                 NA   \n",
       "13     Flat/Apartment              flat                 NA   \n",
       "14     Flat/Apartment         apartment          Leasehold   \n",
       "15     Flat/Apartment              flat          Leasehold   \n",
       "24     Flat/Apartment         apartment          Leasehold   \n",
       "27     Flat/Apartment              flat          Leasehold   \n",
       "30     Flat/Apartment              flat          Leasehold   \n",
       "33     Flat/Apartment              flat                 NA   \n",
       "34     Flat/Apartment         apartment          Leasehold   \n",
       "37     Flat/Apartment         apartment          Leasehold   \n",
       "40     Flat/Apartment         apartment          Leasehold   \n",
       "41     Flat/Apartment              flat          Leasehold   \n",
       "46     Flat/Apartment              flat          Leasehold   \n",
       "47     Flat/Apartment              flat                 NA   \n",
       "48     Flat/Apartment              flat                 NA   \n",
       "49     Flat/Apartment              flat                 NA   \n",
       "50     Flat/Apartment              flat          Leasehold   \n",
       "53     Flat/Apartment         apartment          Leasehold   \n",
       "54     Flat/Apartment         apartment          Leasehold   \n",
       "55              House    terraced house           Freehold   \n",
       "56     Flat/Apartment              flat          Leasehold   \n",
       "60     Flat/Apartment              flat          Leasehold   \n",
       "63     Flat/Apartment              flat                 NA   \n",
       "69     Flat/Apartment         apartment          Leasehold   \n",
       "...               ...               ...                ...   \n",
       "30444  Flat/Apartment  duplex apartment                 NA   \n",
       "30453  Flat/Apartment              flat          Leasehold   \n",
       "30475  Flat/Apartment              flat          Leasehold   \n",
       "30480  Flat/Apartment              flat          Leasehold   \n",
       "30481  Flat/Apartment         apartment                 NA   \n",
       "30482  Flat/Apartment         apartment                 NA   \n",
       "30483  Flat/Apartment         apartment                 NA   \n",
       "30484  Flat/Apartment         apartment                 NA   \n",
       "30485  Flat/Apartment         apartment                 NA   \n",
       "30506           House    terraced house                 NA   \n",
       "30520  Flat/Apartment              flat                 NA   \n",
       "30523  Flat/Apartment         apartment          Leasehold   \n",
       "30530  Flat/Apartment              flat  Share of Freehold   \n",
       "30532  Flat/Apartment              flat          Leasehold   \n",
       "30533  Flat/Apartment         apartment                 NA   \n",
       "30534  Flat/Apartment         apartment          Leasehold   \n",
       "30536  Flat/Apartment              flat  Share of Freehold   \n",
       "30543  Flat/Apartment              flat                 NA   \n",
       "30548  Flat/Apartment              flat          Leasehold   \n",
       "30550  Flat/Apartment         apartment          Leasehold   \n",
       "30554  Flat/Apartment              flat          Leasehold   \n",
       "30555  Flat/Apartment         apartment          Leasehold   \n",
       "30565  Flat/Apartment              flat          Leasehold   \n",
       "30570  Flat/Apartment         apartment          Leasehold   \n",
       "30573  Flat/Apartment              flat                 NA   \n",
       "30583  Flat/Apartment              flat          Leasehold   \n",
       "30584  Flat/Apartment              flat          Leasehold   \n",
       "30587           House   retirement home          Leasehold   \n",
       "30588           House   retirement home                 NA   \n",
       "30591  Flat/Apartment              flat          Leasehold   \n",
       "\n",
       "           years_remaining  Penthouse  Parking  Garden  Balcony     Price  \\\n",
       "3                       NA      False     True    True    False   850.000   \n",
       "5                       NA      False     True    True    False   205.000   \n",
       "8                       NA      False    False   False     True   371.000   \n",
       "9                       NA      False     True    True    False   230.000   \n",
       "10                      NA      False    False   False    False   415.000   \n",
       "11                      NA      False    False   False    False   364.000   \n",
       "12                      NA      False    False    True    False   398.000   \n",
       "13                      NA      False    False    True    False   415.000   \n",
       "14     999 years remaining      False    False   False    False  1163.000   \n",
       "15                      NA      False    False   False    False   189.950   \n",
       "24     996 years remaining      False    False    True     True   420.000   \n",
       "27                      NA      False    False    True    False   745.000   \n",
       "30      92 years remaining      False     True   False    False   225.000   \n",
       "33                      NA      False    False   False    False   175.000   \n",
       "34     999 years remaining      False    False   False    False   315.000   \n",
       "37                      NA      False    False   False    False   535.000   \n",
       "40     979 years remaining      False     True   False    False   400.000   \n",
       "41                      NA      False    False   False    False  1450.000   \n",
       "46      84 years remaining      False    False   False    False   290.000   \n",
       "47                      NA      False    False   False     True    76.000   \n",
       "48                      NA      False    False   False     True    80.000   \n",
       "49                      NA      False    False   False     True   320.000   \n",
       "50      77 years remaining      False     True   False    False   300.000   \n",
       "53                      NA      False    False   False     True   311.000   \n",
       "54                      NA      False    False    True     True   317.000   \n",
       "55                      NA      False    False   False    False   299.950   \n",
       "56                      NA      False    False   False     True   490.000   \n",
       "60                      NA      False    False   False    False   240.000   \n",
       "63                      NA      False    False   False    False   245.000   \n",
       "69     123 years remaining      False    False   False    False   280.000   \n",
       "...                    ...        ...      ...     ...      ...       ...   \n",
       "30444                   NA      False    False    True    False   475.000   \n",
       "30453                   NA      False    False   False    False   495.000   \n",
       "30475                   NA      False    False   False    False   345.000   \n",
       "30480                   NA      False    False   False     True   350.000   \n",
       "30481                   NA      False    False   False    False   309.995   \n",
       "30482                   NA      False    False   False     True   311.995   \n",
       "30483                   NA      False    False   False     True   313.995   \n",
       "30484                   NA      False    False   False     True   315.995   \n",
       "30485                   NA      False    False   False     True   319.995   \n",
       "30506                   NA      False     True    True    False   269.500   \n",
       "30520                   NA      False    False   False    False   375.000   \n",
       "30523                   NA      False    False   False    False   225.000   \n",
       "30530                   NA      False    False   False    False   885.000   \n",
       "30532                   NA      False    False   False    False   130.000   \n",
       "30533                   NA      False    False   False    False   900.000   \n",
       "30534                   NA      False     True   False    False   900.000   \n",
       "30536                   NA      False    False   False    False   399.950   \n",
       "30543                   NA      False    False   False    False   525.000   \n",
       "30548                   NA      False    False   False     True   355.000   \n",
       "30550                   NA      False    False   False    False   450.000   \n",
       "30554                   NA      False    False   False    False   325.000   \n",
       "30555                   NA      False    False   False     True   440.000   \n",
       "30565                   NA      False    False   False    False   240.000   \n",
       "30570                   NA      False     True   False     True   525.000   \n",
       "30573                   NA      False    False   False     True   425.995   \n",
       "30583  995 years remaining      False    False    True     True   315.000   \n",
       "30584                   NA      False    False    True    False   285.000   \n",
       "30587                   NA      False    False    True    False   209.950   \n",
       "30588                   NA      False    False   False    False   239.950   \n",
       "30591   93 years remaining      False    False    True     True   275.000   \n",
       "\n",
       "                              Tube  Tubedist  \n",
       "3                   Battersea Park  (0.3 mi)  \n",
       "5                           Pinner  (0.7 mi)  \n",
       "8                  Blackhorse Road  (0.1 mi)  \n",
       "9                     Preston Road  (0.5 mi)  \n",
       "10                    Hackney Wick  (0.2 mi)  \n",
       "11                       Colindale  (0.0 mi)  \n",
       "12                       Colindale  (0.0 mi)  \n",
       "13                       Colindale  (0.0 mi)  \n",
       "14                        Vauxhall  (0.2 mi)  \n",
       "15                       Colindale  (0.8 mi)  \n",
       "24                  Streatham Hill  (0.1 mi)  \n",
       "27                    King's Cross  (0.5 mi)  \n",
       "30                     Bexleyheath  (0.4 mi)  \n",
       "33                     West Harrow  (0.3 mi)  \n",
       "34                        Maryland  (0.2 mi)  \n",
       "37                Fenchurch Street  (0.1 mi)  \n",
       "40                       Burnt Oak  (0.4 mi)  \n",
       "41                     Marble Arch  (0.1 mi)  \n",
       "46                 Wandsworth Town  (0.4 mi)  \n",
       "47                        Southall  (0.3 mi)  \n",
       "48                        Southall  (0.3 mi)  \n",
       "49                        Southall  (0.3 mi)  \n",
       "50                       Kidbrooke  (0.6 mi)  \n",
       "53                        Southall  (0.1 mi)  \n",
       "54                        Southall  (0.1 mi)  \n",
       "55                      Berrylands  (0.3 mi)  \n",
       "56                Woolwich Arsenal  (0.2 mi)  \n",
       "60              Harrow-on-the-Hill  (0.1 mi)  \n",
       "63                 St. John's Wood  (0.3 mi)  \n",
       "69                    Canning Town  (0.3 mi)  \n",
       "...                            ...       ...  \n",
       "30444              South Wimbledon  (0.3 mi)  \n",
       "30453                Parsons Green  (0.5 mi)  \n",
       "30475                    Stockwell  (0.4 mi)  \n",
       "30480               Tottenham Hale  (0.4 mi)  \n",
       "30481                   Hackbridge  (0.2 mi)  \n",
       "30482                   Hackbridge  (0.2 mi)  \n",
       "30483                   Hackbridge  (0.2 mi)  \n",
       "30484                   Hackbridge  (0.2 mi)  \n",
       "30485                   Hackbridge  (0.2 mi)  \n",
       "30506                 West Drayton  (0.4 mi)  \n",
       "30520                      Arsenal  (0.3 mi)  \n",
       "30523                   Wallington  (0.2 mi)  \n",
       "30530                Sloane Square  (0.2 mi)  \n",
       "30532                    Brentford  (0.3 mi)  \n",
       "30533                 Baker Street  (0.1 mi)  \n",
       "30534                 Baker Street  (0.1 mi)  \n",
       "30536                 Tufnell Park  (0.2 mi)  \n",
       "30543               Imperial Wharf  (0.5 mi)  \n",
       "30548              Acton Main Line  (0.2 mi)  \n",
       "30550                   Twickenham  (0.2 mi)  \n",
       "30554              Caledonian Road  (0.4 mi)  \n",
       "30555              Caledonian Road  (0.4 mi)  \n",
       "30565                 Newbury Park  (0.2 mi)  \n",
       "30570  Queenstown Road (Battersea)  (0.4 mi)  \n",
       "30573                    Limehouse  (0.1 mi)  \n",
       "30583                      Edgware  (0.5 mi)  \n",
       "30584                      Edgware  (0.5 mi)  \n",
       "30587             Dalston Junction  (0.1 mi)  \n",
       "30588             Dalston Junction  (0.1 mi)  \n",
       "30591                 Surrey Quays  (0.5 mi)  \n",
       "\n",
       "[6172 rows x 14 columns]"
      ]
     },
     "execution_count": 35,
     "metadata": {},
     "output_type": "execute_result"
    }
   ],
   "source": [
    "df_private_1bed"
   ]
  },
  {
   "cell_type": "code",
   "execution_count": 36,
   "metadata": {
    "ExecuteTime": {
     "end_time": "2020-05-13T11:04:51.893796Z",
     "start_time": "2020-05-13T11:04:51.886814Z"
    }
   },
   "outputs": [],
   "source": [
    "#Delete unwanted generated column\n",
    "df_commercial.drop(columns='Unnamed: 0',inplace=True)"
   ]
  },
  {
   "cell_type": "markdown",
   "metadata": {},
   "source": [
    "# Data Visualisation"
   ]
  },
  {
   "cell_type": "markdown",
   "metadata": {},
   "source": [
    "## Private Properties"
   ]
  },
  {
   "cell_type": "code",
   "execution_count": 37,
   "metadata": {
    "ExecuteTime": {
     "end_time": "2020-05-13T11:04:51.925746Z",
     "start_time": "2020-05-13T11:04:51.898782Z"
    }
   },
   "outputs": [
    {
     "data": {
      "text/html": [
       "<div>\n",
       "<style scoped>\n",
       "    .dataframe tbody tr th:only-of-type {\n",
       "        vertical-align: middle;\n",
       "    }\n",
       "\n",
       "    .dataframe tbody tr th {\n",
       "        vertical-align: top;\n",
       "    }\n",
       "\n",
       "    .dataframe thead th {\n",
       "        text-align: right;\n",
       "    }\n",
       "</style>\n",
       "<table border=\"1\" class=\"dataframe\">\n",
       "  <thead>\n",
       "    <tr style=\"text-align: right;\">\n",
       "      <th></th>\n",
       "      <th>Bedrooms</th>\n",
       "      <th>Price</th>\n",
       "    </tr>\n",
       "  </thead>\n",
       "  <tbody>\n",
       "    <tr>\n",
       "      <th>count</th>\n",
       "      <td>30592.000000</td>\n",
       "      <td>30592.000000</td>\n",
       "    </tr>\n",
       "    <tr>\n",
       "      <th>mean</th>\n",
       "      <td>2.507126</td>\n",
       "      <td>735.075623</td>\n",
       "    </tr>\n",
       "    <tr>\n",
       "      <th>std</th>\n",
       "      <td>1.216308</td>\n",
       "      <td>970.970923</td>\n",
       "    </tr>\n",
       "    <tr>\n",
       "      <th>min</th>\n",
       "      <td>1.000000</td>\n",
       "      <td>40.000000</td>\n",
       "    </tr>\n",
       "    <tr>\n",
       "      <th>25%</th>\n",
       "      <td>2.000000</td>\n",
       "      <td>370.000000</td>\n",
       "    </tr>\n",
       "    <tr>\n",
       "      <th>50%</th>\n",
       "      <td>2.000000</td>\n",
       "      <td>510.000000</td>\n",
       "    </tr>\n",
       "    <tr>\n",
       "      <th>75%</th>\n",
       "      <td>3.000000</td>\n",
       "      <td>750.000000</td>\n",
       "    </tr>\n",
       "    <tr>\n",
       "      <th>max</th>\n",
       "      <td>9.000000</td>\n",
       "      <td>25000.000000</td>\n",
       "    </tr>\n",
       "  </tbody>\n",
       "</table>\n",
       "</div>"
      ],
      "text/plain": [
       "           Bedrooms         Price\n",
       "count  30592.000000  30592.000000\n",
       "mean       2.507126    735.075623\n",
       "std        1.216308    970.970923\n",
       "min        1.000000     40.000000\n",
       "25%        2.000000    370.000000\n",
       "50%        2.000000    510.000000\n",
       "75%        3.000000    750.000000\n",
       "max        9.000000  25000.000000"
      ]
     },
     "execution_count": 37,
     "metadata": {},
     "output_type": "execute_result"
    }
   ],
   "source": [
    "#Statistical analysis\n",
    "df_private.describe()"
   ]
  },
  {
   "cell_type": "code",
   "execution_count": 38,
   "metadata": {
    "ExecuteTime": {
     "end_time": "2020-05-13T11:04:54.275492Z",
     "start_time": "2020-05-13T11:04:51.927704Z"
    }
   },
   "outputs": [
    {
     "data": {
      "image/png": "[encoded data removed]",
      "text/plain": [
       "<Figure size 841.68x595.44 with 9 Axes>"
      ]
     },
     "metadata": {
      "needs_background": "light"
     },
     "output_type": "display_data"
    }
   ],
   "source": [
    "fig = plt.figure(figsize=(11.69,8.27)) #figure size in inches to fit A4\n",
    "\n",
    "# parition the figure into 4 subplots with 'gridspec'\n",
    "gs = gridspec.GridSpec(5, 2, # we want 2 rows, 2 cols\n",
    "                       figure=fig, # this gs applies to figure\n",
    "                       hspace=1.2, \n",
    "                       wspace=0.25, # separation between plots\n",
    "                       width_ratios=[1, 1], # ration between the first and second column\n",
    "                       height_ratios=[1, 1, 1, 1,1]) #ration between the first ans second row\n",
    "\n",
    "# add plots\n",
    "ax0 = fig.add_subplot(gs[0, 0]) # this will occupy the first row-first column\n",
    "ax1 = fig.add_subplot(gs[0, 1]) # and so on and so forth...\n",
    "ax2 = fig.add_subplot(gs[1, 0])\n",
    "ax3 = fig.add_subplot(gs[1, 1])\n",
    "ax4 = fig.add_subplot(gs[2, 0]) \n",
    "ax5 = fig.add_subplot(gs[2, 1]) \n",
    "ax6 = fig.add_subplot(gs[3, 0])\n",
    "ax7 = fig.add_subplot(gs[3, 1])\n",
    "ax8 = fig.add_subplot(gs[4, 0])"
   ]
  },
  {
   "cell_type": "code",
   "execution_count": null,
   "metadata": {},
   "outputs": [],
   "source": []
  },
  {
   "cell_type": "code",
   "execution_count": 39,
   "metadata": {
    "ExecuteTime": {
     "end_time": "2020-05-13T11:04:54.410871Z",
     "start_time": "2020-05-13T11:04:54.278485Z"
    }
   },
   "outputs": [
    {
     "data": {
      "text/plain": [
       "Text(0.5, 1, '9 bedrooms')"
      ]
     },
     "execution_count": 39,
     "metadata": {},
     "output_type": "execute_result"
    }
   ],
   "source": [
    "sns.boxplot(x=df_private_1bed['Price'], ax=ax0)\n",
    "ax0.set_xlabel(xlabel=\"Price (£ '000s)\")\n",
    "ax0.set_title(label=\"1 bedroom\")\n",
    "\n",
    "sns.boxplot(x=df_private_2bed['Price'], ax=ax1)\n",
    "ax1.set_xlabel(xlabel=\"Price (£ '000s)\")\n",
    "ax1.set_title(label=\"2 bedrooms\")\n",
    "\n",
    "sns.boxplot(x=df_private_3bed['Price'], ax=ax2)\n",
    "ax2.set_xlabel(xlabel=\"Price (£ '000s)\")\n",
    "ax2.set_title(label=\"3 bedrooms\")\n",
    "\n",
    "sns.boxplot(x=df_private_4bed['Price'], ax=ax3)\n",
    "ax3.set_xlabel(xlabel=\"Price (£ '000s)\")\n",
    "ax3.set_title(label=\"4 bedrooms\")\n",
    "\n",
    "sns.boxplot(x=df_private_5bed['Price'], ax=ax4)\n",
    "ax4.set_xlabel(xlabel=\"Price (£ '000s)\")\n",
    "ax4.set_title(label=\"5 bedrooms\")\n",
    "\n",
    "sns.boxplot(x=df_private_6bed['Price'], ax=ax5)\n",
    "ax5.set_xlabel(xlabel=\"Price (£ '000s)\")\n",
    "ax5.set_title(label=\"6 bedrooms\")\n",
    "\n",
    "sns.boxplot(x=df_private_7bed['Price'], ax=ax6)\n",
    "ax6.set_xlabel(xlabel=\"Price (£ '000s)\")\n",
    "ax6.set_title(label=\"7 bedrooms\")\n",
    "\n",
    "sns.boxplot(x=df_private_8bed['Price'], ax=ax7)\n",
    "ax7.set_xlabel(xlabel=\"Price (£ '000s)\")\n",
    "ax7.set_title(label=\"8 bedrooms\")\n",
    "\n",
    "sns.boxplot(x=df_private_9bed['Price'], ax=ax8)\n",
    "ax8.set_xlabel(xlabel=\"Price (£ '000s)\")\n",
    "ax8.set_title(label=\"9 bedrooms\")"
   ]
  },
  {
   "cell_type": "code",
   "execution_count": 40,
   "metadata": {
    "ExecuteTime": {
     "end_time": "2020-05-13T11:04:56.154803Z",
     "start_time": "2020-05-13T11:04:54.413842Z"
    }
   },
   "outputs": [
    {
     "data": {
      "image/png": "[encoded data removed]",
      "text/plain": [
       "<Figure size 841.68x595.44 with 9 Axes>"
      ]
     },
     "execution_count": 40,
     "metadata": {},
     "output_type": "execute_result"
    }
   ],
   "source": [
    "fig"
   ]
  },
  {
   "cell_type": "code",
   "execution_count": 41,
   "metadata": {
    "ExecuteTime": {
     "end_time": "2020-05-13T11:04:56.176785Z",
     "start_time": "2020-05-13T11:04:56.156798Z"
    }
   },
   "outputs": [
    {
     "name": "stdout",
     "output_type": "stream",
     "text": [
      "<class 'pandas.core.frame.DataFrame'>\n",
      "Int64Index: 6172 entries, 3 to 30591\n",
      "Data columns (total 14 columns):\n",
      "Address            6172 non-null object\n",
      "Areacode           6172 non-null object\n",
      "Postcode           6172 non-null object\n",
      "property_group     6172 non-null object\n",
      "property_type      6172 non-null object\n",
      "Tenure             6172 non-null object\n",
      "years_remaining    6172 non-null object\n",
      "Penthouse          6172 non-null bool\n",
      "Parking            6172 non-null bool\n",
      "Garden             6172 non-null bool\n",
      "Balcony            6172 non-null bool\n",
      "Price              6172 non-null float64\n",
      "Tube               6172 non-null object\n",
      "Tubedist           6172 non-null object\n",
      "dtypes: bool(4), float64(1), object(9)\n",
      "memory usage: 554.5+ KB\n"
     ]
    }
   ],
   "source": [
    "df_private_1bed.info()"
   ]
  },
  {
   "cell_type": "code",
   "execution_count": 42,
   "metadata": {
    "ExecuteTime": {
     "end_time": "2020-05-13T11:04:56.203707Z",
     "start_time": "2020-05-13T11:04:56.180757Z"
    }
   },
   "outputs": [
    {
     "name": "stdout",
     "output_type": "stream",
     "text": [
      "<class 'pandas.core.frame.DataFrame'>\n",
      "Int64Index: 62 entries, 0 to 61\n",
      "Data columns (total 4 columns):\n",
      "Bedrooms          62 non-null float64\n",
      "property_group    62 non-null object\n",
      "Tenure            62 non-null object\n",
      "Price             62 non-null float64\n",
      "dtypes: float64(2), object(2)\n",
      "memory usage: 2.4+ KB\n"
     ]
    }
   ],
   "source": [
    "df_analysis = pd.DataFrame(df_private.groupby(by=['Bedrooms','property_group','Tenure'],as_index=False)['Price'].aggregate(np.mean))\n",
    "df_analysis.info()"
   ]
  },
  {
   "cell_type": "code",
   "execution_count": 62,
   "metadata": {
    "ExecuteTime": {
     "end_time": "2020-05-13T12:38:39.970642Z",
     "start_time": "2020-05-13T12:38:39.852239Z"
    }
   },
   "outputs": [
    {
     "name": "stdout",
     "output_type": "stream",
     "text": [
      "<class 'pandas.core.frame.DataFrame'>\n",
      "Int64Index: 14 entries, 0 to 13\n",
      "Data columns (total 15 columns):\n",
      "property_type      14 non-null object\n",
      "Address            14 non-null int64\n",
      "Areacode           14 non-null int64\n",
      "Postcode           14 non-null int64\n",
      "Bedrooms           14 non-null int64\n",
      "property_group     14 non-null int64\n",
      "Tenure             14 non-null int64\n",
      "years_remaining    14 non-null int64\n",
      "Penthouse          14 non-null int64\n",
      "Parking            14 non-null int64\n",
      "Garden             14 non-null int64\n",
      "Balcony            14 non-null int64\n",
      "Price              14 non-null int64\n",
      "Tube               14 non-null int64\n",
      "Tubedist           14 non-null int64\n",
      "dtypes: int64(14), object(1)\n",
      "memory usage: 1.8+ KB\n"
     ]
    }
   ],
   "source": [
    "df_count = pd.DataFrame(df_private.groupby(by=['property_type'],as_index=False).count())\n",
    "df_count.info()"
   ]
  },
  {
   "cell_type": "code",
   "execution_count": 43,
   "metadata": {
    "ExecuteTime": {
     "end_time": "2020-05-13T11:04:56.758191Z",
     "start_time": "2020-05-13T11:04:56.205673Z"
    }
   },
   "outputs": [
    {
     "data": {
      "image/png": "[encoded data removed]",
      "text/plain": [
       "<Figure size 1080x576 with 1 Axes>"
      ]
     },
     "metadata": {
      "needs_background": "light"
     },
     "output_type": "display_data"
    }
   ],
   "source": [
    "pd.pivot_table(df_analysis, index = ['Bedrooms'], columns=['property_group','Tenure'], values=\"Price\").plot(figsize=(15,8), kind='bar')\n",
    "plt.ylabel('Price (Thousands £)')\n",
    "plt.show()"
   ]
  },
  {
   "cell_type": "code",
   "execution_count": 44,
   "metadata": {
    "ExecuteTime": {
     "end_time": "2020-05-13T11:04:58.948077Z",
     "start_time": "2020-05-13T11:04:56.761181Z"
    }
   },
   "outputs": [
    {
     "data": {
      "image/png": "[encoded data removed]",
      "text/plain": [
       "<Figure size 1080x1080 with 8 Axes>"
      ]
     },
     "metadata": {
      "needs_background": "light"
     },
     "output_type": "display_data"
    }
   ],
   "source": [
    "fig3 = plt.figure(figsize=(15,15)) #figure size in inches to fit A4\n",
    "\n",
    "# parition the figure into 4 subplots with 'gridspec'\n",
    "gs3 = gridspec.GridSpec(4, 2, # we want 4 rows, 2 cols\n",
    "                       figure=fig3, # this gs applies to figure\n",
    "                       hspace=1, \n",
    "                       wspace=0.25, # separation between plots\n",
    "                       width_ratios=[1, 1], # ration between the first and second column\n",
    "                       height_ratios=[1, 1, 1, 1]) #ration between the first ans second row\n",
    "\n",
    "# add plots\n",
    "az0 = fig3.add_subplot(gs3[0, 0]) # this will occupy the first row-first column\n",
    "az1 = fig3.add_subplot(gs3[0, 1]) # and so on and so forth...\n",
    "az2 = fig3.add_subplot(gs3[1, 0])\n",
    "az3 = fig3.add_subplot(gs3[1, 1])\n",
    "az4 = fig3.add_subplot(gs3[2, 0]) \n",
    "az5 = fig3.add_subplot(gs3[2, 1]) \n",
    "az6 = fig3.add_subplot(gs3[3, 0])\n",
    "az7 = fig3.add_subplot(gs3[3, 1])"
   ]
  },
  {
   "cell_type": "code",
   "execution_count": 45,
   "metadata": {
    "ExecuteTime": {
     "end_time": "2020-05-13T11:04:59.074970Z",
     "start_time": "2020-05-13T11:04:58.950037Z"
    }
   },
   "outputs": [
    {
     "data": {
      "text/plain": [
       "<matplotlib.axes._subplots.AxesSubplot at 0x24e46657128>"
      ]
     },
     "execution_count": 45,
     "metadata": {},
     "output_type": "execute_result"
    }
   ],
   "source": [
    "sns.countplot(data = df_private, x = 'Bedrooms', ax=az0)\n",
    "sns.countplot(data = df_private, x = 'Tenure', ax=az1)\n",
    "az1.set_xticklabels(az1.get_xticklabels(),rotation=90)\n",
    "sns.countplot(data = df_private, x = 'property_group', ax=az2)\n",
    "sns.countplot(data = df_private, x = 'property_type', ax=az3)\n",
    "az3.set_xticklabels(az3.get_xticklabels(),rotation=90)\n",
    "sns.countplot(data = df_private, x = 'Balcony', ax=az4)\n",
    "sns.countplot(data = df_private, x = 'Garden', ax=az5)\n",
    "sns.countplot(data = df_private, x = 'Penthouse', ax=az6)\n",
    "sns.countplot(data = df_private, x = 'Parking', ax=az7)\n"
   ]
  },
  {
   "cell_type": "code",
   "execution_count": 46,
   "metadata": {
    "ExecuteTime": {
     "end_time": "2020-05-13T11:05:00.210071Z",
     "start_time": "2020-05-13T11:04:59.077068Z"
    }
   },
   "outputs": [
    {
     "data": {
      "image/png": "[encoded data removed]",
      "text/plain": [
       "<Figure size 1080x1080 with 8 Axes>"
      ]
     },
     "execution_count": 46,
     "metadata": {},
     "output_type": "execute_result"
    }
   ],
   "source": [
    "fig3"
   ]
  },
  {
   "cell_type": "code",
   "execution_count": 47,
   "metadata": {
    "ExecuteTime": {
     "end_time": "2020-05-13T11:05:00.484149Z",
     "start_time": "2020-05-13T11:05:00.214028Z"
    }
   },
   "outputs": [
    {
     "data": {
      "text/plain": [
       "<matplotlib.axes._subplots.AxesSubplot at 0x24e4601ccc0>"
      ]
     },
     "execution_count": 47,
     "metadata": {},
     "output_type": "execute_result"
    },
    {
     "data": {
      "image/png": "[encoded data removed]",
      "text/plain": [
       "<Figure size 432x288 with 1 Axes>"
      ]
     },
     "metadata": {
      "needs_background": "light"
     },
     "output_type": "display_data"
    }
   ],
   "source": [
    "sns.boxplot(x=df_private['Price'])"
   ]
  },
  {
   "cell_type": "code",
   "execution_count": 48,
   "metadata": {
    "ExecuteTime": {
     "end_time": "2020-05-13T11:05:00.544987Z",
     "start_time": "2020-05-13T11:05:00.486144Z"
    }
   },
   "outputs": [
    {
     "data": {
      "text/plain": [
       "(22818, 15)"
      ]
     },
     "execution_count": 48,
     "metadata": {},
     "output_type": "execute_result"
    }
   ],
   "source": [
    "Q1 = df_private.quantile(0.25)\n",
    "Q3 = df_private.quantile(0.75)\n",
    "IQR = Q3 - Q1\n",
    "df_nooutliers = df_private[~((df_private < (Q1-1.5 * IQR)) |(df_private > (Q3 + 1.5 * IQR))).any(axis=1)]\n",
    "df_nooutliers.shape"
   ]
  },
  {
   "cell_type": "code",
   "execution_count": 49,
   "metadata": {
    "ExecuteTime": {
     "end_time": "2020-05-13T11:05:00.833216Z",
     "start_time": "2020-05-13T11:05:00.548976Z"
    }
   },
   "outputs": [
    {
     "data": {
      "text/plain": [
       "<matplotlib.axes._subplots.AxesSubplot at 0x24e45f24e10>"
      ]
     },
     "execution_count": 49,
     "metadata": {},
     "output_type": "execute_result"
    },
    {
     "data": {
      "image/png": "[encoded data removed]",
      "text/plain": [
       "<Figure size 432x288 with 1 Axes>"
      ]
     },
     "metadata": {
      "needs_background": "light"
     },
     "output_type": "display_data"
    }
   ],
   "source": [
    "sns.boxplot(x=df_nooutliers['Price'])"
   ]
  },
  {
   "cell_type": "code",
   "execution_count": 50,
   "metadata": {
    "ExecuteTime": {
     "end_time": "2020-05-13T11:05:01.368684Z",
     "start_time": "2020-05-13T11:05:00.835211Z"
    }
   },
   "outputs": [
    {
     "data": {
      "text/html": [
       "<div>\n",
       "<style scoped>\n",
       "    .dataframe tbody tr th:only-of-type {\n",
       "        vertical-align: middle;\n",
       "    }\n",
       "\n",
       "    .dataframe tbody tr th {\n",
       "        vertical-align: top;\n",
       "    }\n",
       "\n",
       "    .dataframe thead th {\n",
       "        text-align: right;\n",
       "    }\n",
       "</style>\n",
       "<table border=\"1\" class=\"dataframe\">\n",
       "  <thead>\n",
       "    <tr style=\"text-align: right;\">\n",
       "      <th></th>\n",
       "      <th>Bedrooms</th>\n",
       "      <th>Penthouse</th>\n",
       "      <th>Parking</th>\n",
       "      <th>Garden</th>\n",
       "      <th>Balcony</th>\n",
       "      <th>Price</th>\n",
       "    </tr>\n",
       "  </thead>\n",
       "  <tbody>\n",
       "    <tr>\n",
       "      <th>Bedrooms</th>\n",
       "      <td>1.000000</td>\n",
       "      <td>-0.000836</td>\n",
       "      <td>0.081172</td>\n",
       "      <td>0.205204</td>\n",
       "      <td>-0.171660</td>\n",
       "      <td>0.393806</td>\n",
       "    </tr>\n",
       "    <tr>\n",
       "      <th>Penthouse</th>\n",
       "      <td>-0.000836</td>\n",
       "      <td>1.000000</td>\n",
       "      <td>0.035985</td>\n",
       "      <td>-0.049144</td>\n",
       "      <td>0.020995</td>\n",
       "      <td>0.076524</td>\n",
       "    </tr>\n",
       "    <tr>\n",
       "      <th>Parking</th>\n",
       "      <td>0.081172</td>\n",
       "      <td>0.035985</td>\n",
       "      <td>1.000000</td>\n",
       "      <td>0.123175</td>\n",
       "      <td>0.014126</td>\n",
       "      <td>-0.020948</td>\n",
       "    </tr>\n",
       "    <tr>\n",
       "      <th>Garden</th>\n",
       "      <td>0.205204</td>\n",
       "      <td>-0.049144</td>\n",
       "      <td>0.123175</td>\n",
       "      <td>1.000000</td>\n",
       "      <td>-0.142409</td>\n",
       "      <td>0.018643</td>\n",
       "    </tr>\n",
       "    <tr>\n",
       "      <th>Balcony</th>\n",
       "      <td>-0.171660</td>\n",
       "      <td>0.020995</td>\n",
       "      <td>0.014126</td>\n",
       "      <td>-0.142409</td>\n",
       "      <td>1.000000</td>\n",
       "      <td>-0.031542</td>\n",
       "    </tr>\n",
       "    <tr>\n",
       "      <th>Price</th>\n",
       "      <td>0.393806</td>\n",
       "      <td>0.076524</td>\n",
       "      <td>-0.020948</td>\n",
       "      <td>0.018643</td>\n",
       "      <td>-0.031542</td>\n",
       "      <td>1.000000</td>\n",
       "    </tr>\n",
       "  </tbody>\n",
       "</table>\n",
       "</div>"
      ],
      "text/plain": [
       "           Bedrooms  Penthouse   Parking    Garden   Balcony     Price\n",
       "Bedrooms   1.000000  -0.000836  0.081172  0.205204 -0.171660  0.393806\n",
       "Penthouse -0.000836   1.000000  0.035985 -0.049144  0.020995  0.076524\n",
       "Parking    0.081172   0.035985  1.000000  0.123175  0.014126 -0.020948\n",
       "Garden     0.205204  -0.049144  0.123175  1.000000 -0.142409  0.018643\n",
       "Balcony   -0.171660   0.020995  0.014126 -0.142409  1.000000 -0.031542\n",
       "Price      0.393806   0.076524 -0.020948  0.018643 -0.031542  1.000000"
      ]
     },
     "execution_count": 50,
     "metadata": {},
     "output_type": "execute_result"
    },
    {
     "data": {
      "image/png": "[encoded data removed]",
      "text/plain": [
       "<Figure size 1440x720 with 2 Axes>"
      ]
     },
     "metadata": {
      "needs_background": "light"
     },
     "output_type": "display_data"
    }
   ],
   "source": [
    "plt.figure(figsize=(20,10))\n",
    "c= df_private.corr()\n",
    "sns.heatmap(c,cmap=\"BrBG\",annot=True)\n",
    "c"
   ]
  },
  {
   "cell_type": "code",
   "execution_count": 51,
   "metadata": {
    "ExecuteTime": {
     "end_time": "2020-05-13T11:05:04.021172Z",
     "start_time": "2020-05-13T11:05:01.370647Z"
    }
   },
   "outputs": [
    {
     "data": {
      "image/png": "[encoded data removed]",
      "text/plain": [
       "<Figure size 1800x2160 with 9 Axes>"
      ]
     },
     "metadata": {
      "needs_background": "light"
     },
     "output_type": "display_data"
    }
   ],
   "source": [
    "fig2 = plt.figure(figsize=(25,30)) #figure size in inches to fit A4\n",
    "\n",
    "# parition the figure into 4 subplots with 'gridspec'\n",
    "gs2 = gridspec.GridSpec(5, 2, # we want 2 rows, 2 cols\n",
    "                       figure=fig2, # this gs applies to figure\n",
    "                       hspace=0.4, \n",
    "                       wspace=0.25, # separation between plots\n",
    "                       width_ratios=[1, 1], # ration between the first and second column\n",
    "                       height_ratios=[1, 1, 1, 1,1]) #ration between the first ans second row\n",
    "\n",
    "# add plots\n",
    "ay0 = fig2.add_subplot(gs2[0, 0]) # this will occupy the first row-first column\n",
    "ay1 = fig2.add_subplot(gs2[0, 1]) # and so on and so forth...\n",
    "ay2 = fig2.add_subplot(gs2[1, 0])\n",
    "ay3 = fig2.add_subplot(gs2[1, 1])\n",
    "ay4 = fig2.add_subplot(gs2[2, 0]) \n",
    "ay5 = fig2.add_subplot(gs2[2, 1]) \n",
    "ay6 = fig2.add_subplot(gs2[3, 0])\n",
    "ay7 = fig2.add_subplot(gs2[3, 1])\n",
    "ay8 = fig2.add_subplot(gs2[4, 0])"
   ]
  },
  {
   "cell_type": "code",
   "execution_count": 52,
   "metadata": {
    "ExecuteTime": {
     "end_time": "2020-05-13T11:05:07.476361Z",
     "start_time": "2020-05-13T11:05:04.023136Z"
    }
   },
   "outputs": [
    {
     "data": {
      "text/plain": [
       "<matplotlib.axes._subplots.AxesSubplot at 0x24e46923b00>"
      ]
     },
     "execution_count": 52,
     "metadata": {},
     "output_type": "execute_result"
    }
   ],
   "source": [
    "sns.heatmap(df_private_1bed.corr(),cmap=\"BrBG\",annot=True, ax=ay0)\n",
    "sns.heatmap(df_private_2bed.corr(),cmap=\"BrBG\",annot=True, ax=ay1)\n",
    "sns.heatmap(df_private_3bed.corr(),cmap=\"BrBG\",annot=True, ax=ay2)\n",
    "sns.heatmap(df_private_4bed.corr(),cmap=\"BrBG\",annot=True, ax=ay3)\n",
    "sns.heatmap(df_private_5bed.corr(),cmap=\"BrBG\",annot=True, ax=ay4)\n",
    "sns.heatmap(df_private_6bed.corr(),cmap=\"BrBG\",annot=True, ax=ay5)\n",
    "sns.heatmap(df_private_7bed.corr(),cmap=\"BrBG\",annot=True, ax=ay6)\n",
    "sns.heatmap(df_private_8bed.corr(),cmap=\"BrBG\",annot=True, ax=ay7)\n",
    "sns.heatmap(df_private_9bed.corr(),cmap=\"BrBG\",annot=True, ax=ay8)"
   ]
  },
  {
   "cell_type": "code",
   "execution_count": 53,
   "metadata": {
    "ExecuteTime": {
     "end_time": "2020-05-13T11:05:09.474790Z",
     "start_time": "2020-05-13T11:05:07.479343Z"
    }
   },
   "outputs": [
    {
     "data": {
      "image/png": "[encoded data removed]",
      "text/plain": [
       "<Figure size 1800x2160 with 18 Axes>"
      ]
     },
     "execution_count": 53,
     "metadata": {},
     "output_type": "execute_result"
    }
   ],
   "source": [
    "fig2"
   ]
  },
  {
   "cell_type": "code",
   "execution_count": null,
   "metadata": {
    "ExecuteTime": {
     "end_time": "2020-05-13T01:29:26.157336Z",
     "start_time": "2020-05-13T01:29:25.656802Z"
    }
   },
   "outputs": [],
   "source": []
  },
  {
   "cell_type": "code",
   "execution_count": null,
   "metadata": {
    "ExecuteTime": {
     "end_time": "2020-05-10T20:39:17.192653Z",
     "start_time": "2020-05-10T20:39:17.133337Z"
    }
   },
   "outputs": [],
   "source": []
  },
  {
   "cell_type": "markdown",
   "metadata": {},
   "source": [
    "## Commercial Properties"
   ]
  },
  {
   "cell_type": "code",
   "execution_count": 54,
   "metadata": {
    "ExecuteTime": {
     "end_time": "2020-05-13T11:05:09.501721Z",
     "start_time": "2020-05-13T11:05:09.476749Z"
    }
   },
   "outputs": [
    {
     "data": {
      "text/html": [
       "<div>\n",
       "<style scoped>\n",
       "    .dataframe tbody tr th:only-of-type {\n",
       "        vertical-align: middle;\n",
       "    }\n",
       "\n",
       "    .dataframe tbody tr th {\n",
       "        vertical-align: top;\n",
       "    }\n",
       "\n",
       "    .dataframe thead th {\n",
       "        text-align: right;\n",
       "    }\n",
       "</style>\n",
       "<table border=\"1\" class=\"dataframe\">\n",
       "  <thead>\n",
       "    <tr style=\"text-align: right;\">\n",
       "      <th></th>\n",
       "      <th>price</th>\n",
       "    </tr>\n",
       "  </thead>\n",
       "  <tbody>\n",
       "    <tr>\n",
       "      <th>count</th>\n",
       "      <td>1051.000000</td>\n",
       "    </tr>\n",
       "    <tr>\n",
       "      <th>mean</th>\n",
       "      <td>1162.156124</td>\n",
       "    </tr>\n",
       "    <tr>\n",
       "      <th>std</th>\n",
       "      <td>5245.381831</td>\n",
       "    </tr>\n",
       "    <tr>\n",
       "      <th>min</th>\n",
       "      <td>0.001000</td>\n",
       "    </tr>\n",
       "    <tr>\n",
       "      <th>25%</th>\n",
       "      <td>100.000000</td>\n",
       "    </tr>\n",
       "    <tr>\n",
       "      <th>50%</th>\n",
       "      <td>500.000000</td>\n",
       "    </tr>\n",
       "    <tr>\n",
       "      <th>75%</th>\n",
       "      <td>1150.000000</td>\n",
       "    </tr>\n",
       "    <tr>\n",
       "      <th>max</th>\n",
       "      <td>160000.000000</td>\n",
       "    </tr>\n",
       "  </tbody>\n",
       "</table>\n",
       "</div>"
      ],
      "text/plain": [
       "               price\n",
       "count    1051.000000\n",
       "mean     1162.156124\n",
       "std      5245.381831\n",
       "min         0.001000\n",
       "25%       100.000000\n",
       "50%       500.000000\n",
       "75%      1150.000000\n",
       "max    160000.000000"
      ]
     },
     "execution_count": 54,
     "metadata": {},
     "output_type": "execute_result"
    }
   ],
   "source": [
    "df_commercial.describe()"
   ]
  },
  {
   "cell_type": "code",
   "execution_count": 55,
   "metadata": {
    "ExecuteTime": {
     "end_time": "2020-05-13T11:05:10.084204Z",
     "start_time": "2020-05-13T11:05:09.504674Z"
    }
   },
   "outputs": [
    {
     "data": {
      "text/plain": [
       "array([[<matplotlib.axes._subplots.AxesSubplot object at 0x0000024E47498780>]],\n",
       "      dtype=object)"
      ]
     },
     "execution_count": 55,
     "metadata": {},
     "output_type": "execute_result"
    },
    {
     "data": {
      "image/png": "[encoded data removed]",
      "text/plain": [
       "<Figure size 864x576 with 1 Axes>"
      ]
     },
     "metadata": {
      "needs_background": "light"
     },
     "output_type": "display_data"
    }
   ],
   "source": [
    "df_commercial.hist(figsize=(12,8), bins=50)"
   ]
  },
  {
   "cell_type": "code",
   "execution_count": 56,
   "metadata": {
    "ExecuteTime": {
     "end_time": "2020-05-13T11:05:10.368480Z",
     "start_time": "2020-05-13T11:05:10.086200Z"
    }
   },
   "outputs": [
    {
     "data": {
      "text/plain": [
       "<matplotlib.axes._subplots.AxesSubplot at 0x24e4757c160>"
      ]
     },
     "execution_count": 56,
     "metadata": {},
     "output_type": "execute_result"
    },
    {
     "data": {
      "image/png": "[encoded data removed]",
      "text/plain": [
       "<Figure size 432x288 with 1 Axes>"
      ]
     },
     "metadata": {
      "needs_background": "light"
     },
     "output_type": "display_data"
    }
   ],
   "source": [
    "sns.boxplot(x=df_commercial['price'])"
   ]
  },
  {
   "cell_type": "code",
   "execution_count": 57,
   "metadata": {
    "ExecuteTime": {
     "end_time": "2020-05-13T11:05:10.393377Z",
     "start_time": "2020-05-13T11:05:10.370438Z"
    }
   },
   "outputs": [
    {
     "data": {
      "text/plain": [
       "(1153, 8)"
      ]
     },
     "execution_count": 57,
     "metadata": {},
     "output_type": "execute_result"
    }
   ],
   "source": [
    "Q1_comm = df_commercial.quantile(0.25)\n",
    "Q3_comm = df_commercial.quantile(0.75)\n",
    "IQR_comm = Q3_comm - Q1_comm\n",
    "df_comm_nooutliers = df_commercial[~((df_commercial < (Q1_comm-1.5 * IQR_comm)) |(df_commercial > (Q3_comm + 1.5 * IQR_comm))).any(axis=1)]\n",
    "df_comm_nooutliers.shape"
   ]
  },
  {
   "cell_type": "code",
   "execution_count": 58,
   "metadata": {
    "ExecuteTime": {
     "end_time": "2020-05-13T11:05:10.686237Z",
     "start_time": "2020-05-13T11:05:10.397368Z"
    }
   },
   "outputs": [
    {
     "data": {
      "text/plain": [
       "<matplotlib.axes._subplots.AxesSubplot at 0x24e475b5cc0>"
      ]
     },
     "execution_count": 58,
     "metadata": {},
     "output_type": "execute_result"
    },
    {
     "data": {
      "image/png": "[encoded data removed]",
      "text/plain": [
       "<Figure size 432x288 with 1 Axes>"
      ]
     },
     "metadata": {
      "needs_background": "light"
     },
     "output_type": "display_data"
    }
   ],
   "source": [
    "sns.boxplot(x=df_comm_nooutliers['price'])"
   ]
  },
  {
   "cell_type": "code",
   "execution_count": 59,
   "metadata": {
    "ExecuteTime": {
     "end_time": "2020-05-13T11:05:11.149005Z",
     "start_time": "2020-05-13T11:05:10.688235Z"
    }
   },
   "outputs": [
    {
     "data": {
      "text/plain": [
       "array([[<matplotlib.axes._subplots.AxesSubplot object at 0x0000024E4762B2E8>]],\n",
       "      dtype=object)"
      ]
     },
     "execution_count": 59,
     "metadata": {},
     "output_type": "execute_result"
    },
    {
     "data": {
      "image/png": "[encoded data removed]",
      "text/plain": [
       "<Figure size 864x576 with 1 Axes>"
      ]
     },
     "metadata": {
      "needs_background": "light"
     },
     "output_type": "display_data"
    }
   ],
   "source": [
    "df_comm_nooutliers.hist(figsize=(12,8), bins=50)"
   ]
  },
  {
   "cell_type": "code",
   "execution_count": null,
   "metadata": {},
   "outputs": [],
   "source": []
  }
 ],
 "metadata": {
  "kernelspec": {
   "display_name": "Python 3",
   "language": "python",
   "name": "python3"
  },
  "language_info": {
   "codemirror_mode": {
    "name": "ipython",
    "version": 3
   },
   "file_extension": ".py",
   "mimetype": "text/x-python",
   "name": "python",
   "nbconvert_exporter": "python",
   "pygments_lexer": "ipython3",
   "version": "3.7.3"
  },
  "toc": {
   "base_numbering": 1,
   "nav_menu": {},
   "number_sections": true,
   "sideBar": true,
   "skip_h1_title": false,
   "title_cell": "Table of Contents",
   "title_sidebar": "Contents",
   "toc_cell": false,
   "toc_position": {},
   "toc_section_display": true,
   "toc_window_display": false
  },
  "varInspector": {
   "cols": {
    "lenName": 16,
    "lenType": 16,
    "lenVar": 40
   },
   "kernels_config": {
    "python": {
     "delete_cmd_postfix": "",
     "delete_cmd_prefix": "del ",
     "library": "var_list.py",
     "varRefreshCmd": "print(var_dic_list())"
    },
    "r": {
     "delete_cmd_postfix": ") ",
     "delete_cmd_prefix": "rm(",
     "library": "var_list.r",
     "varRefreshCmd": "cat(var_dic_list()) "
    }
   },
   "oldHeight": 122.4,
   "position": {
    "height": "40px",
    "left": "1178.2px",
    "right": "20px",
    "top": "43px",
    "width": "350px"
   },
   "types_to_exclude": [
    "module",
    "function",
    "builtin_function_or_method",
    "instance",
    "_Feature"
   ],
   "varInspector_section_display": "none",
   "window_display": true
  }
 },
 "nbformat": 4,
 "nbformat_minor": 2
}
